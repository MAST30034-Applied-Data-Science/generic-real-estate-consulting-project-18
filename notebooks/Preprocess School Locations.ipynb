{
 "cells": [
  {
   "cell_type": "code",
   "execution_count": 2,
   "id": "12c2cf19",
   "metadata": {},
   "outputs": [
    {
     "name": "stdout",
     "output_type": "stream",
     "text": [
      "22/09/07 11:01:04 WARN Utils: Your hostname, Janes-MacBook-Pro.local resolves to a loopback address: 127.0.0.1; using 10.13.93.119 instead (on interface en0)\n",
      "22/09/07 11:01:04 WARN Utils: Set SPARK_LOCAL_IP if you need to bind to another address\n"
     ]
    },
    {
     "name": "stderr",
     "output_type": "stream",
     "text": [
      "Setting default log level to \"WARN\".\n",
      "To adjust logging level use sc.setLogLevel(newLevel). For SparkR, use setLogLevel(newLevel).\n"
     ]
    },
    {
     "name": "stdout",
     "output_type": "stream",
     "text": [
      "22/09/07 11:01:05 WARN NativeCodeLoader: Unable to load native-hadoop library for your platform... using builtin-java classes where applicable\n"
     ]
    }
   ],
   "source": [
    "from pyspark.sql import SparkSession\n",
    "from pyspark.sql.functions import *\n",
    "from pyspark.sql import functions as F\n",
    "\n",
    "# Create a spark session (which will run spark jobs)\n",
    "spark = (\n",
    "    SparkSession.builder.appName(\"MAST30034 P2\") \n",
    "    .config(\"spark.sql.repl.eagerEval.enabled\", True) \n",
    "    .config(\"spark.sql.parquet.cacheMetadata\", \"true\")\n",
    "    .config(\"spark.executor.memory\", \"2g\")\n",
    "    .config(\"spark.driver.memory\", \"4g\")\n",
    "    .getOrCreate()\n",
    ")\n",
    "\n",
    "import os"
   ]
  },
  {
   "cell_type": "code",
   "execution_count": 3,
   "id": "5f696496",
   "metadata": {},
   "outputs": [
    {
     "data": {
      "text/plain": [
       "'/Users/janevieren/Downloads/School Locations'"
      ]
     },
     "execution_count": 3,
     "metadata": {},
     "output_type": "execute_result"
    }
   ],
   "source": [
    "os.getcwd()"
   ]
  },
  {
   "cell_type": "code",
   "execution_count": 4,
   "id": "879e2fab",
   "metadata": {},
   "outputs": [
    {
     "data": {
      "text/html": [
       "<table border='1'>\n",
       "<tr><th>Education_Sector</th><th>Entity_Type</th><th>SCHOOL_NO</th><th>School_Name</th><th>School_Type</th><th>School_Status</th><th>Address_Line_1</th><th>Address_Line_2</th><th>Address_Town</th><th>Address_State</th><th>Address_Postcode</th><th>Postal_Address_Line_1</th><th>Postal_Address_Line_2</th><th>Postal_Town</th><th>Postal_State</th><th>Postal_Postcode</th><th>Full_Phone_No</th><th>LGA_ID</th><th>LGA_Name</th><th>X</th><th>Y</th></tr>\n",
       "<tr><td>3</td><td>2</td><td>2154</td><td>2111</td><td>6</td><td>1</td><td>2333</td><td>13</td><td>1328</td><td>1</td><td>581</td><td>2166</td><td>14</td><td>1076</td><td>1</td><td>585</td><td>2312</td><td>80</td><td>80</td><td>2330</td><td>2330</td></tr>\n",
       "</table>\n"
      ],
      "text/plain": [
       "+----------------+-----------+---------+-----------+-----------+-------------+--------------+--------------+------------+-------------+----------------+---------------------+---------------------+-----------+------------+---------------+-------------+------+--------+----+----+\n",
       "|Education_Sector|Entity_Type|SCHOOL_NO|School_Name|School_Type|School_Status|Address_Line_1|Address_Line_2|Address_Town|Address_State|Address_Postcode|Postal_Address_Line_1|Postal_Address_Line_2|Postal_Town|Postal_State|Postal_Postcode|Full_Phone_No|LGA_ID|LGA_Name|   X|   Y|\n",
       "+----------------+-----------+---------+-----------+-----------+-------------+--------------+--------------+------------+-------------+----------------+---------------------+---------------------+-----------+------------+---------------+-------------+------+--------+----+----+\n",
       "|               3|          2|     2154|       2111|          6|            1|          2333|            13|        1328|            1|             581|                 2166|                   14|       1076|           1|            585|         2312|    80|      80|2330|2330|\n",
       "+----------------+-----------+---------+-----------+-----------+-------------+--------------+--------------+------------+-------------+----------------+---------------------+---------------------+-----------+------------+---------------+-------------+------+--------+----+----+"
      ]
     },
     "execution_count": 4,
     "metadata": {},
     "output_type": "execute_result"
    }
   ],
   "source": [
    "schools = spark.read.option(\"header\", True).csv('/Users/janevieren/Downloads/School Locations/SL')\n",
    "schools.agg(*(countDistinct(col(c)).alias(c) for c in schools.columns))"
   ]
  },
  {
   "cell_type": "code",
   "execution_count": 11,
   "id": "d5e35687",
   "metadata": {},
   "outputs": [
    {
     "data": {
      "text/html": [
       "<table border='1'>\n",
       "<tr><th>School_Name</th><th>Address_Line_1</th><th>Address_Town</th><th>Address_State</th><th>Address_Postcode</th></tr>\n",
       "<tr><td>Alberton Primary ...</td><td>21 Thomson Street</td><td>Alberton</td><td>VIC</td><td>3971</td></tr>\n",
       "<tr><td>Allansford and Di...</td><td>Frank Street</td><td>Allansford</td><td>VIC</td><td>3277</td></tr>\n",
       "<tr><td>Avoca Primary School</td><td>118 Barnett Street</td><td>Avoca</td><td>VIC</td><td>3467</td></tr>\n",
       "<tr><td>Avenel Primary Sc...</td><td>40 Anderson Street</td><td>Avenel</td><td>VIC</td><td>3664</td></tr>\n",
       "<tr><td>Warrandyte Primar...</td><td>5-11 Forbes Street</td><td>Warrandyte</td><td>VIC</td><td>3113</td></tr>\n",
       "<tr><td>Belmont Primary S...</td><td>51 Mt Pleasant Road</td><td>Belmont</td><td>VIC</td><td>3216</td></tr>\n",
       "<tr><td>Bacchus Marsh Pri...</td><td>56-62 Lerderderg ...</td><td>Bacchus Marsh</td><td>VIC</td><td>3340</td></tr>\n",
       "<tr><td>Ballarat Primary ...</td><td>401 Dana Street</td><td>Ballarat</td><td>VIC</td><td>3350</td></tr>\n",
       "<tr><td>Wodonga Primary S...</td><td>Brockley Street</td><td>Wodonga</td><td>VIC</td><td>3690</td></tr>\n",
       "<tr><td>Berwick Primary S...</td><td>37 Fairholme Boul...</td><td>Berwick</td><td>VIC</td><td>3806</td></tr>\n",
       "<tr><td>Beaufort Primary ...</td><td>2/37 Park Road</td><td>Beaufort</td><td>VIC</td><td>3373</td></tr>\n",
       "<tr><td>Cheltenham Primar...</td><td>231 Charman Road</td><td>Cheltenham</td><td>VIC</td><td>3192</td></tr>\n",
       "<tr><td>Cudgee Primary Sc...</td><td>3 Hallowells Road</td><td>Cudgee</td><td>VIC</td><td>3265</td></tr>\n",
       "<tr><td>Newport Lakes Pri...</td><td>Elizabeth Street</td><td>Newport</td><td>VIC</td><td>3015</td></tr>\n",
       "<tr><td>Cavendish Primary...</td><td>8-10 Barker Street</td><td>Cavendish</td><td>VIC</td><td>3314</td></tr>\n",
       "<tr><td>Colac Primary School</td><td>53-65 Murray Stre...</td><td>Colac</td><td>VIC</td><td>3250</td></tr>\n",
       "<tr><td>Castlemaine Prima...</td><td>Cnr Mostyn &amp; Urqu...</td><td>Castlemaine</td><td>VIC</td><td>3450</td></tr>\n",
       "<tr><td>Campbells Creek P...</td><td>Main Road</td><td>Campbells Creek</td><td>VIC</td><td>3451</td></tr>\n",
       "<tr><td>Creswick Primary ...</td><td>67 Napier Street</td><td>Creswick</td><td>VIC</td><td>3363</td></tr>\n",
       "<tr><td>California Gully ...</td><td>4-14 Staley Street</td><td>California Gully</td><td>VIC</td><td>3556</td></tr>\n",
       "</table>\n",
       "only showing top 20 rows\n"
      ],
      "text/plain": [
       "+--------------------+--------------------+----------------+-------------+----------------+\n",
       "|         School_Name|      Address_Line_1|    Address_Town|Address_State|Address_Postcode|\n",
       "+--------------------+--------------------+----------------+-------------+----------------+\n",
       "|Alberton Primary ...|   21 Thomson Street|        Alberton|          VIC|            3971|\n",
       "|Allansford and Di...|        Frank Street|      Allansford|          VIC|            3277|\n",
       "|Avoca Primary School|  118 Barnett Street|           Avoca|          VIC|            3467|\n",
       "|Avenel Primary Sc...|  40 Anderson Street|          Avenel|          VIC|            3664|\n",
       "|Warrandyte Primar...|  5-11 Forbes Street|      Warrandyte|          VIC|            3113|\n",
       "|Belmont Primary S...| 51 Mt Pleasant Road|         Belmont|          VIC|            3216|\n",
       "|Bacchus Marsh Pri...|56-62 Lerderderg ...|   Bacchus Marsh|          VIC|            3340|\n",
       "|Ballarat Primary ...|     401 Dana Street|        Ballarat|          VIC|            3350|\n",
       "|Wodonga Primary S...|     Brockley Street|         Wodonga|          VIC|            3690|\n",
       "|Berwick Primary S...|37 Fairholme Boul...|         Berwick|          VIC|            3806|\n",
       "|Beaufort Primary ...|      2/37 Park Road|        Beaufort|          VIC|            3373|\n",
       "|Cheltenham Primar...|    231 Charman Road|      Cheltenham|          VIC|            3192|\n",
       "|Cudgee Primary Sc...|   3 Hallowells Road|          Cudgee|          VIC|            3265|\n",
       "|Newport Lakes Pri...|    Elizabeth Street|         Newport|          VIC|            3015|\n",
       "|Cavendish Primary...|  8-10 Barker Street|       Cavendish|          VIC|            3314|\n",
       "|Colac Primary School|53-65 Murray Stre...|           Colac|          VIC|            3250|\n",
       "|Castlemaine Prima...|Cnr Mostyn & Urqu...|     Castlemaine|          VIC|            3450|\n",
       "|Campbells Creek P...|           Main Road| Campbells Creek|          VIC|            3451|\n",
       "|Creswick Primary ...|    67 Napier Street|        Creswick|          VIC|            3363|\n",
       "|California Gully ...|  4-14 Staley Street|California Gully|          VIC|            3556|\n",
       "+--------------------+--------------------+----------------+-------------+----------------+\n",
       "only showing top 20 rows"
      ]
     },
     "execution_count": 11,
     "metadata": {},
     "output_type": "execute_result"
    }
   ],
   "source": [
    "# only get school name, address line, town, state, postcode, x and y\n",
    "schools_rel = schools.select(\"School_Name\", \"Address_Line_1\", \"Address_Town\", \"Address_State\", \"Address_Postcode\")\n",
    "schools_rel # assume people don't fill in address line 2 as most are null"
   ]
  },
  {
   "cell_type": "code",
   "execution_count": 13,
   "id": "198c32e5",
   "metadata": {},
   "outputs": [],
   "source": [
    "schools_nodup = schools_rel.dropDuplicates()\n",
    "\n",
    "# save as csv\n",
    "schools_nodup.write.csv(\"/Users/janevieren/Downloads/School Locations/school_vic_clean.csv\")"
   ]
  }
 ],
 "metadata": {
  "kernelspec": {
   "display_name": "Python 3 (ipykernel)",
   "language": "python",
   "name": "python3"
  },
  "language_info": {
   "codemirror_mode": {
    "name": "ipython",
    "version": 3
   },
   "file_extension": ".py",
   "mimetype": "text/x-python",
   "name": "python",
   "nbconvert_exporter": "python",
   "pygments_lexer": "ipython3",
   "version": "3.9.7"
  }
 },
 "nbformat": 4,
 "nbformat_minor": 5
}
