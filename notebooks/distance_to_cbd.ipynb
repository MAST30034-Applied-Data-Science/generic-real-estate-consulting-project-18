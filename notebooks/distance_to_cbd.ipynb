{
 "cells": [
  {
   "cell_type": "code",
   "execution_count": 5,
   "metadata": {},
   "outputs": [],
   "source": [
    "from os.path import exists\n",
    "import requests\n",
    "import pandas as pd\n",
    "import numpy as np\n",
    "from collections import defaultdict\n",
    "import ast\n",
    "from json import dump, load\n",
    "from IPython.display import clear_output"
   ]
  },
  {
   "cell_type": "code",
   "execution_count": 6,
   "metadata": {},
   "outputs": [],
   "source": [
    "START = 0\n",
    "DAILY_MAX = 2000\n",
    "CBD_COORDS = [144.946457,-37.840935]"
   ]
  },
  {
   "cell_type": "code",
   "execution_count": 3,
   "metadata": {},
   "outputs": [
    {
     "ename": "FileNotFoundError",
     "evalue": "[Errno 2] No such file or directory: '../data/raw/api.json'",
     "output_type": "error",
     "traceback": [
      "\u001b[0;31m---------------------------------------------------------------------------\u001b[0m",
      "\u001b[0;31mFileNotFoundError\u001b[0m                         Traceback (most recent call last)",
      "\u001b[0;32m/var/folders/jv/q8z94ls52bq_4hrt0x88rlb40000gn/T/ipykernel_94123/3081295592.py\u001b[0m in \u001b[0;36m<module>\u001b[0;34m\u001b[0m\n\u001b[1;32m      1\u001b[0m \u001b[0;31m# Read in API keys\u001b[0m\u001b[0;34m\u001b[0m\u001b[0;34m\u001b[0m\u001b[0;34m\u001b[0m\u001b[0m\n\u001b[0;32m----> 2\u001b[0;31m \u001b[0;32mwith\u001b[0m \u001b[0mopen\u001b[0m\u001b[0;34m(\u001b[0m\u001b[0;34m'../data/raw/api.json'\u001b[0m\u001b[0;34m,\u001b[0m \u001b[0;34m'r'\u001b[0m\u001b[0;34m)\u001b[0m \u001b[0;32mas\u001b[0m \u001b[0mf\u001b[0m\u001b[0;34m:\u001b[0m\u001b[0;34m\u001b[0m\u001b[0;34m\u001b[0m\u001b[0m\n\u001b[0m\u001b[1;32m      3\u001b[0m   \u001b[0mkeys\u001b[0m \u001b[0;34m=\u001b[0m \u001b[0mload\u001b[0m\u001b[0;34m(\u001b[0m\u001b[0mf\u001b[0m\u001b[0;34m)\u001b[0m\u001b[0;34m\u001b[0m\u001b[0;34m\u001b[0m\u001b[0m\n",
      "\u001b[0;31mFileNotFoundError\u001b[0m: [Errno 2] No such file or directory: '../data/raw/api.json'"
     ]
    }
   ],
   "source": [
    "# Read in API keys\n",
    "with open('../data/raw/api.json', 'r') as f:\n",
    "  keys = load(f)"
   ]
  },
  {
   "cell_type": "code",
   "execution_count": 4,
   "metadata": {},
   "outputs": [
    {
     "ename": "NameError",
     "evalue": "name 'keys' is not defined",
     "output_type": "error",
     "traceback": [
      "\u001b[0;31m---------------------------------------------------------------------------\u001b[0m",
      "\u001b[0;31mNameError\u001b[0m                                 Traceback (most recent call last)",
      "\u001b[0;32m/var/folders/jv/q8z94ls52bq_4hrt0x88rlb40000gn/T/ipykernel_94123/1565537724.py\u001b[0m in \u001b[0;36m<module>\u001b[0;34m\u001b[0m\n\u001b[0;32m----> 1\u001b[0;31m \u001b[0mkey_vals\u001b[0m \u001b[0;34m=\u001b[0m \u001b[0mlist\u001b[0m\u001b[0;34m(\u001b[0m\u001b[0mkeys\u001b[0m\u001b[0;34m.\u001b[0m\u001b[0mvalues\u001b[0m\u001b[0;34m(\u001b[0m\u001b[0;34m)\u001b[0m\u001b[0;34m)\u001b[0m\u001b[0;34m\u001b[0m\u001b[0;34m\u001b[0m\u001b[0m\n\u001b[0m\u001b[1;32m      2\u001b[0m \u001b[0mnum_keys\u001b[0m \u001b[0;34m=\u001b[0m \u001b[0mlen\u001b[0m\u001b[0;34m(\u001b[0m\u001b[0mkey_vals\u001b[0m\u001b[0;34m)\u001b[0m\u001b[0;34m\u001b[0m\u001b[0;34m\u001b[0m\u001b[0m\n",
      "\u001b[0;31mNameError\u001b[0m: name 'keys' is not defined"
     ]
    }
   ],
   "source": [
    "key_vals = list(keys.values())\n",
    "num_keys = len(key_vals)"
   ]
  },
  {
   "cell_type": "code",
   "execution_count": 7,
   "metadata": {},
   "outputs": [],
   "source": [
    "# Read in coordinate data\n",
    "data = pd.read_csv('../data/curated/bbox.csv', index_col=0)\n",
    "end = len(data)"
   ]
  },
  {
   "cell_type": "code",
   "execution_count": 9,
   "metadata": {},
   "outputs": [],
   "source": [
    "# Check if .json file already exists, and create file if not\n",
    "if not exists('../data/raw/distance.json'):\n",
    "    with open('../data/raw/distance.json', 'w') as f:\n",
    "        dump([], f)"
   ]
  },
  {
   "cell_type": "code",
   "execution_count": 24,
   "metadata": {},
   "outputs": [
    {
     "name": "stdout",
     "output_type": "stream",
     "text": [
      "Beginning query number 6599:\n",
      "Code 200, OK\n"
     ]
    }
   ],
   "source": [
    "for i in range(START, end):\n",
    "    clear_output(wait=True)\n",
    "    print(f'Beginning query number {i}:')\n",
    "    \n",
    "    \n",
    "    data_dict = defaultdict(dict)\n",
    "    body = {\"coordinates\":[[data.long[i], data.lat[i]], CBD_COORDS]}\n",
    "\n",
    "    headers = {\n",
    "        'Accept': 'application/json, application/geo+json, application/gpx+xml, img/png; charset=utf-8',\n",
    "        'Authorization': f'{key_vals[i%num_keys]}',\n",
    "        'Content-Type': 'application/json; charset=utf-8'\n",
    "    }\n",
    "    call = requests.post('https://api.openrouteservice.org/v2/directions/driving-car', json=body, headers=headers)\n",
    "\n",
    "    print(f'Code {call.status_code}, {call.reason}')\n",
    "    \n",
    "    # Index through dictionary to obtain total diatcnce (in metres) \n",
    "    # and trip duration (in seconds) to reach Melbourne CBD\n",
    "    try:\n",
    "        data_dict[data.coordinates[i]] = ast.literal_eval(call.__dict__['_content'] \\\n",
    "                                                        .decode('utf-8'))['routes'][0]['summary']\n",
    "    except:\n",
    "        data_dict[data.coordinates[i]] = dict({\"distance\": np.nan, \"duration\": np.nan})\n",
    "    \n",
    "    \n",
    "    with open('../data/raw/distance.json', 'r') as f:\n",
    "        file = load(f)\n",
    "    file.append(data_dict)\n",
    "    with open('../data/raw/distance.json', 'w') as f:\n",
    "        dump(file, f, indent=4, separators=(',',': '))"
   ]
  }
 ],
 "metadata": {
  "kernelspec": {
   "display_name": "Python 3 (ipykernel)",
   "language": "python",
   "name": "python3"
  },
  "language_info": {
   "codemirror_mode": {
    "name": "ipython",
    "version": 3
   },
   "file_extension": ".py",
   "mimetype": "text/x-python",
   "name": "python",
   "nbconvert_exporter": "python",
   "pygments_lexer": "ipython3",
   "version": "3.9.6"
  },
  "vscode": {
   "interpreter": {
    "hash": "8e284ee3255a07ad8bf76694974743c4c81cb57e7c969474d752d949b11d721e"
   }
  }
 },
 "nbformat": 4,
 "nbformat_minor": 4
}
