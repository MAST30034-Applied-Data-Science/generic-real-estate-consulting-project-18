{
 "cells": [
  {
   "cell_type": "code",
   "execution_count": 39,
   "id": "5ac67278-1843-4d21-92a1-2737d9cf1a24",
   "metadata": {},
   "outputs": [],
   "source": [
    "# import packages\n",
    "import glob\n",
    "import os\n",
    "import sys\n",
    "import zipfile as zf"
   ]
  },
  {
   "cell_type": "code",
   "execution_count": 42,
   "id": "b3be3eb8-c26e-429c-bd96-392aa0fc2e84",
   "metadata": {},
   "outputs": [
    {
     "name": "stdout",
     "output_type": "stream",
     "text": [
      "/Users/lucyliu/Applied_Data_Science/Project2_actual/notebooks\n"
     ]
    }
   ],
   "source": [
    "%cd Applied_Data_Science/Project2_actual/notebooks/"
   ]
  },
  {
   "cell_type": "code",
   "execution_count": null,
   "id": "f4ee5371-37b2-4601-a9af-6484f69fb389",
   "metadata": {},
   "outputs": [],
   "source": []
  },
  {
   "cell_type": "code",
   "execution_count": 22,
   "id": "00477e48-4bf6-49f1-b42a-353514a8bca3",
   "metadata": {},
   "outputs": [
    {
     "ename": "FileNotFoundError",
     "evalue": "[Errno 2] No such file or directory: '/data/raw.zip'",
     "output_type": "error",
     "traceback": [
      "\u001b[0;31m---------------------------------------------------------------------------\u001b[0m",
      "\u001b[0;31mFileNotFoundError\u001b[0m                         Traceback (most recent call last)",
      "\u001b[0;32m/var/folders/jv/q8z94ls52bq_4hrt0x88rlb40000gn/T/ipykernel_93378/1059492244.py\u001b[0m in \u001b[0;36m<module>\u001b[0;34m\u001b[0m\n\u001b[1;32m      1\u001b[0m \u001b[0;31m# unpack the raw data folder from google drive (raw) into jupyter, make sure to rename zip as 'raw.zip'\u001b[0m\u001b[0;34m\u001b[0m\u001b[0;34m\u001b[0m\u001b[0;34m\u001b[0m\u001b[0m\n\u001b[0;32m----> 2\u001b[0;31m \u001b[0mraw_data_drive\u001b[0m \u001b[0;34m=\u001b[0m  \u001b[0mzf\u001b[0m\u001b[0;34m.\u001b[0m\u001b[0mZipFile\u001b[0m\u001b[0;34m(\u001b[0m\u001b[0mos\u001b[0m\u001b[0;34m.\u001b[0m\u001b[0mgetcwd\u001b[0m\u001b[0;34m(\u001b[0m\u001b[0;34m)\u001b[0m\u001b[0;34m.\u001b[0m\u001b[0mstrip\u001b[0m\u001b[0;34m(\u001b[0m\u001b[0;34m'notebooks'\u001b[0m\u001b[0;34m)\u001b[0m \u001b[0;34m+\u001b[0m \u001b[0;34m\"data/raw.zip\"\u001b[0m\u001b[0;34m,\u001b[0m \u001b[0;34m'r'\u001b[0m\u001b[0;34m)\u001b[0m\u001b[0;34m\u001b[0m\u001b[0;34m\u001b[0m\u001b[0m\n\u001b[0m\u001b[1;32m      3\u001b[0m \u001b[0mraw_data_drive\u001b[0m\u001b[0;34m.\u001b[0m\u001b[0mextractall\u001b[0m\u001b[0;34m(\u001b[0m\u001b[0mos\u001b[0m\u001b[0;34m.\u001b[0m\u001b[0mgetcwd\u001b[0m\u001b[0;34m(\u001b[0m\u001b[0;34m)\u001b[0m\u001b[0;34m.\u001b[0m\u001b[0mstrip\u001b[0m\u001b[0;34m(\u001b[0m\u001b[0;34m'notebooks'\u001b[0m\u001b[0;34m)\u001b[0m \u001b[0;34m+\u001b[0m \u001b[0;34m'data/'\u001b[0m\u001b[0;34m)\u001b[0m\u001b[0;34m\u001b[0m\u001b[0;34m\u001b[0m\u001b[0m\n\u001b[1;32m      4\u001b[0m \u001b[0mraw_data_drive\u001b[0m\u001b[0;34m.\u001b[0m\u001b[0mclose\u001b[0m\u001b[0;34m(\u001b[0m\u001b[0;34m)\u001b[0m\u001b[0;34m\u001b[0m\u001b[0;34m\u001b[0m\u001b[0m\n",
      "\u001b[0;32m/Library/Frameworks/Python.framework/Versions/3.9/lib/python3.9/zipfile.py\u001b[0m in \u001b[0;36m__init__\u001b[0;34m(self, file, mode, compression, allowZip64, compresslevel, strict_timestamps)\u001b[0m\n\u001b[1;32m   1237\u001b[0m             \u001b[0;32mwhile\u001b[0m \u001b[0;32mTrue\u001b[0m\u001b[0;34m:\u001b[0m\u001b[0;34m\u001b[0m\u001b[0;34m\u001b[0m\u001b[0m\n\u001b[1;32m   1238\u001b[0m                 \u001b[0;32mtry\u001b[0m\u001b[0;34m:\u001b[0m\u001b[0;34m\u001b[0m\u001b[0;34m\u001b[0m\u001b[0m\n\u001b[0;32m-> 1239\u001b[0;31m                     \u001b[0mself\u001b[0m\u001b[0;34m.\u001b[0m\u001b[0mfp\u001b[0m \u001b[0;34m=\u001b[0m \u001b[0mio\u001b[0m\u001b[0;34m.\u001b[0m\u001b[0mopen\u001b[0m\u001b[0;34m(\u001b[0m\u001b[0mfile\u001b[0m\u001b[0;34m,\u001b[0m \u001b[0mfilemode\u001b[0m\u001b[0;34m)\u001b[0m\u001b[0;34m\u001b[0m\u001b[0;34m\u001b[0m\u001b[0m\n\u001b[0m\u001b[1;32m   1240\u001b[0m                 \u001b[0;32mexcept\u001b[0m \u001b[0mOSError\u001b[0m\u001b[0;34m:\u001b[0m\u001b[0;34m\u001b[0m\u001b[0;34m\u001b[0m\u001b[0m\n\u001b[1;32m   1241\u001b[0m                     \u001b[0;32mif\u001b[0m \u001b[0mfilemode\u001b[0m \u001b[0;32min\u001b[0m \u001b[0mmodeDict\u001b[0m\u001b[0;34m:\u001b[0m\u001b[0;34m\u001b[0m\u001b[0;34m\u001b[0m\u001b[0m\n",
      "\u001b[0;31mFileNotFoundError\u001b[0m: [Errno 2] No such file or directory: '/data/raw.zip'"
     ]
    }
   ],
   "source": [
    "# unpack the raw data folder from google drive (raw) into jupyter, make sure to rename zip as 'raw.zip'\n",
    "raw_data_drive =  zf.ZipFile(os.getcwd().strip('notebooks') + \"data/raw.zip\", 'r')\n",
    "raw_data_drive.extractall(os.getcwd().strip('notebooks') + 'data/')\n",
    "raw_data_drive.close()"
   ]
  },
  {
   "cell_type": "code",
   "execution_count": 6,
   "id": "5d6f8f0c-495b-4b4d-b7ef-77a348732622",
   "metadata": {},
   "outputs": [],
   "source": [
    "# unpack shapefiles, LGA and SA2 \n",
    "# shapefiles taken from \n",
    "# https://www.abs.gov.au/statistics/standards/australian-statistical-geography-standard-asgs-edition-3/jul2021-jun2026/access-and-downloads/digital-boundary-files\n",
    "# unpack SA2 shapefiles\n",
    "raw_data_drive =  zf.ZipFile(os.getcwd().strip('notebooks') + \"data/SA2_2021_AUST_SHP_GDA2020.zip\", 'r')\n",
    "raw_data_drive.extractall(os.getcwd().strip('notebooks') + 'data/raw')\n",
    "raw_data_drive.close()\n",
    "\n",
    "# unpack LGA shapefiles\n",
    "raw_data_drive =  zf.ZipFile(os.getcwd().strip('notebooks') + \"data/LGA_2022_AUST_GDA2020_SHP.zip\", 'r')\n",
    "raw_data_drive.extractall(os.getcwd().strip('notebooks') + 'data/raw')\n",
    "raw_data_drive.close()\n"
   ]
  },
  {
   "cell_type": "code",
   "execution_count": 43,
   "id": "f25581eb-8115-4f86-90ff-8e1eb5a18362",
   "metadata": {},
   "outputs": [],
   "source": [
    "# code borrowed from https://stackoverflow.com/questions/34583483/python-sort-file-based-on-created-date\n",
    "\n",
    "# get all the files from the current dictory (/notebooks)\n",
    "search_dir = os.getcwd()\n",
    "if 'notebooks' not in search_dir: \n",
    "    search_dir = search_dir + 'notebooks'\n",
    "files = list(os.listdir(search_dir)) # sort files by creation date\n",
    "files.sort(key=lambda x: os.path.getctime(x))"
   ]
  },
  {
   "cell_type": "code",
   "execution_count": 44,
   "id": "08d8c67e-af5f-4bbe-b503-18cd1ad17a37",
   "metadata": {},
   "outputs": [
    {
     "data": {
      "text/plain": [
       "['.gitkeep',\n",
       " 'distance_to_cbd.ipynb',\n",
       " 'domain_scrape.ipynb',\n",
       " 'postcode_scrape.ipynb',\n",
       " 'Crime_forecast_generation.ipynb',\n",
       " 'Rental_data_analysis.ipynb',\n",
       " 'bbox_maker.ipynb',\n",
       " 'poi_search.ipynb',\n",
       " 'poi_analysis.ipynb',\n",
       " 'Income_analysis.ipynb',\n",
       " 'Merge_all_data.ipynb',\n",
       " 'Preprocess_domain_data.ipynb',\n",
       " 'LGA _to_SA2_conversion.ipynb',\n",
       " 'Official_summary_notebook.ipynb',\n",
       " 'Summary_notebook_skeleton.ipynb',\n",
       " 'Preprocessing_population.ipynb',\n",
       " 'Age_group_preprocessing.ipynb',\n",
       " 'Summary_notebook.ipynb',\n",
       " 'Shapefiles_preprocessing.ipynb',\n",
       " 'Preprocess_income.ipynb',\n",
       " 'Crime_rate_preprocessing.ipynb',\n",
       " '.ipynb_checkpoints',\n",
       " 'Population and rent geoplot.ipynb',\n",
       " 'run.ipynb']"
      ]
     },
     "execution_count": 44,
     "metadata": {},
     "output_type": "execute_result"
    }
   ],
   "source": [
    "files"
   ]
  },
  {
   "cell_type": "code",
   "execution_count": null,
   "id": "eae7c1f6-a5b8-4eeb-80ef-1fb7a3286dd8",
   "metadata": {},
   "outputs": [],
   "source": []
  },
  {
   "cell_type": "code",
   "execution_count": 59,
   "id": "fdb63fb4-8706-472e-8dd5-eb3b01a8f4b1",
   "metadata": {},
   "outputs": [],
   "source": [
    "# order files to be run\n",
    "files = ['Preprocess_domain_data.ipynb',\n",
    "         'Preprocessing_population.ipynb',\n",
    "         'Preprocess_income.ipynb',\n",
    "         'Shapefiles_preprocessing.ipynb',\n",
    "         'Crime_rate_preprocessing.ipynb',\n",
    " 'Age_group_preprocessing.ipynb',\n",
    " 'Crime_forecast_generation.ipynb',\n",
    " 'Rental_data_analysis.ipynb',\n",
    " 'bbox_maker.ipynb',\n",
    " 'LGA_to_SA2_conversion.ipynb',\n",
    " 'poi_analysis.ipynb',\n",
    " 'Population and rent geoplot.ipynb',\n",
    " \n",
    " 'Income_analysis.ipynb',\n",
    " 'Merge_all_data.ipynb',\n",
    " 'Summary_notebook.ipynb',\n",
    "\n",
    " 'Summary_notebook_skeleton.ipynb',\n",
    "         'Official_summary_notebook.ipynb',\n",
    " ]"
   ]
  },
  {
   "cell_type": "code",
   "execution_count": null,
   "id": "9970083a-d89b-4130-a37f-8c4fc43a1bf7",
   "metadata": {},
   "outputs": [
    {
     "name": "stdout",
     "output_type": "stream",
     "text": [
      "Preprocess_domain_data.ipynb\n"
     ]
    }
   ],
   "source": [
    "for file in files:\n",
    "    print(file)\n",
    "    %run $file\n",
    "\n",
    "file = 'done'"
   ]
  },
  {
   "cell_type": "code",
   "execution_count": 48,
   "id": "31207043-ae62-4dc8-9b51-74e368a81372",
   "metadata": {},
   "outputs": [
    {
     "name": "stdout",
     "output_type": "stream",
     "text": [
      "done\n"
     ]
    }
   ],
   "source": [
    "print(file)"
   ]
  },
  {
   "cell_type": "code",
   "execution_count": null,
   "id": "c3bb941c-12fb-4140-bf1c-ab2e788fd02b",
   "metadata": {},
   "outputs": [],
   "source": []
  },
  {
   "cell_type": "code",
   "execution_count": null,
   "id": "a8bae693-0470-4dd3-8d68-628efc54c4d2",
   "metadata": {},
   "outputs": [],
   "source": []
  }
 ],
 "metadata": {
  "kernelspec": {
   "display_name": "Python 3 (ipykernel)",
   "language": "python",
   "name": "python3"
  },
  "language_info": {
   "codemirror_mode": {
    "name": "ipython",
    "version": 3
   },
   "file_extension": ".py",
   "mimetype": "text/x-python",
   "name": "python",
   "nbconvert_exporter": "python",
   "pygments_lexer": "ipython3",
   "version": "3.9.6"
  }
 },
 "nbformat": 4,
 "nbformat_minor": 5
}
