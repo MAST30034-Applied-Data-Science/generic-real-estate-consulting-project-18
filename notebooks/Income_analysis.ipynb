{
 "cells": [
  {
   "cell_type": "code",
   "execution_count": 2,
   "metadata": {},
   "outputs": [],
   "source": [
    "# import packages\n",
    "import pandas as pd\n",
    "import geopandas as gpd\n",
    "import matplotlib.pyplot as plt\n",
    "\n",
    "import seaborn as sns\n",
    "import matplotlib.pyplot as plt"
   ]
  },
  {
   "cell_type": "code",
   "execution_count": 3,
   "metadata": {},
   "outputs": [],
   "source": [
    "prop_df = pd.read_csv(\"../data/curated/prop_by_sa2.csv\")\n",
    "income_df = pd.read_csv(\"../data/curated/vic_income_by_sa2.csv\")\n",
    "\n",
    "# drop irrelevant columns\n",
    "prop_df = prop_df.drop(columns=['Unnamed: 0.1', 'Unnamed: 0', 'index_right'])\n",
    "income_df = income_df.drop(columns=['Unnamed: 0'])"
   ]
  },
  {
   "cell_type": "code",
   "execution_count": 4,
   "metadata": {},
   "outputs": [
    {
     "data": {
      "text/html": [
       "<div>\n",
       "<style scoped>\n",
       "    .dataframe tbody tr th:only-of-type {\n",
       "        vertical-align: middle;\n",
       "    }\n",
       "\n",
       "    .dataframe tbody tr th {\n",
       "        vertical-align: top;\n",
       "    }\n",
       "\n",
       "    .dataframe thead th {\n",
       "        text-align: right;\n",
       "    }\n",
       "</style>\n",
       "<table border=\"1\" class=\"dataframe\">\n",
       "  <thead>\n",
       "    <tr style=\"text-align: right;\">\n",
       "      <th></th>\n",
       "      <th>SA2</th>\n",
       "      <th>SA2 NAME</th>\n",
       "      <th>Earners 2015</th>\n",
       "      <th>Earners 2016</th>\n",
       "      <th>Earners 2017</th>\n",
       "      <th>Earners 2018</th>\n",
       "      <th>Earners 2019</th>\n",
       "      <th>Median Age 2015</th>\n",
       "      <th>Median Age 2016</th>\n",
       "      <th>Median Age 2017</th>\n",
       "      <th>...</th>\n",
       "      <th>Median $ 2015</th>\n",
       "      <th>Median $ 2016</th>\n",
       "      <th>Median $ 2017</th>\n",
       "      <th>Median $ 2018</th>\n",
       "      <th>Median $ 2019</th>\n",
       "      <th>Mean $ 2015</th>\n",
       "      <th>Mean $ 2016</th>\n",
       "      <th>Mean $ 2017</th>\n",
       "      <th>Mean $ 2018</th>\n",
       "      <th>Mean $ 2019</th>\n",
       "    </tr>\n",
       "  </thead>\n",
       "  <tbody>\n",
       "    <tr>\n",
       "      <th>82</th>\n",
       "      <td>205021083</td>\n",
       "      <td>Lake King</td>\n",
       "      <td>np</td>\n",
       "      <td>np</td>\n",
       "      <td>np</td>\n",
       "      <td>np</td>\n",
       "      <td>np</td>\n",
       "      <td>np</td>\n",
       "      <td>np</td>\n",
       "      <td>np</td>\n",
       "      <td>...</td>\n",
       "      <td>np</td>\n",
       "      <td>np</td>\n",
       "      <td>np</td>\n",
       "      <td>np</td>\n",
       "      <td>np</td>\n",
       "      <td>np</td>\n",
       "      <td>np</td>\n",
       "      <td>np</td>\n",
       "      <td>np</td>\n",
       "      <td>np</td>\n",
       "    </tr>\n",
       "  </tbody>\n",
       "</table>\n",
       "<p>1 rows × 27 columns</p>\n",
       "</div>"
      ],
      "text/plain": [
       "          SA2   SA2 NAME Earners 2015 Earners 2016 Earners 2017 Earners 2018  \\\n",
       "82  205021083  Lake King           np           np           np           np   \n",
       "\n",
       "   Earners 2019 Median Age 2015 Median Age 2016 Median Age 2017  ...  \\\n",
       "82           np              np              np              np  ...   \n",
       "\n",
       "   Median $ 2015 Median $ 2016 Median $ 2017 Median $ 2018 Median $ 2019  \\\n",
       "82            np            np            np            np            np   \n",
       "\n",
       "   Mean $ 2015 Mean $ 2016 Mean $ 2017 Mean $ 2018 Mean $ 2019  \n",
       "82          np          np          np          np          np  \n",
       "\n",
       "[1 rows x 27 columns]"
      ]
     },
     "execution_count": 4,
     "metadata": {},
     "output_type": "execute_result"
    }
   ],
   "source": [
    "income_df.loc[income_df['Earners 2019'] == 'np']"
   ]
  },
  {
   "cell_type": "code",
   "execution_count": 5,
   "metadata": {},
   "outputs": [],
   "source": [
    "income_df = income_df.replace(['np'],'0')\n",
    "\n",
    "#convert data types\n",
    "convert_dic = {'Earners 2015': int, \n",
    "            'Earners 2016': int, \n",
    "            'Earners 2017': int, \n",
    "            'Earners 2018': int, \n",
    "            'Earners 2019': int, \n",
    "            'Mean $ 2015': int, \n",
    "            'Mean $ 2016': int, \n",
    "            'Mean $ 2017': int, \n",
    "            'Mean $ 2018': int, \n",
    "            'Mean $ 2019': int }\n",
    "\n",
    "income_df = income_df.astype(convert_dic)"
   ]
  },
  {
   "cell_type": "code",
   "execution_count": null,
   "metadata": {},
   "outputs": [],
   "source": []
  },
  {
   "cell_type": "code",
   "execution_count": 6,
   "metadata": {},
   "outputs": [
    {
     "data": {
      "text/plain": [
       "SA2                 int64\n",
       "SA2 NAME           object\n",
       "Earners 2019        int64\n",
       "Median Age 2019     int64\n",
       "Mean $ 2019         int64\n",
       "dtype: object"
      ]
     },
     "execution_count": 6,
     "metadata": {},
     "output_type": "execute_result"
    }
   ],
   "source": [
    "#extract lastest income data (2019)\n",
    "income2019 = income_df[['SA2', 'SA2 NAME', 'Earners 2019', 'Median Age 2019', 'Mean $ 2019']]\n",
    "\n",
    "convert_dic = {'Earners 2019': int, \n",
    "            'Median Age 2019': int, \n",
    "            'Mean $ 2019': int }\n",
    "\n",
    "income2019 = income2019.astype(convert_dic)\n",
    "income2019.dtypes"
   ]
  },
  {
   "cell_type": "code",
   "execution_count": 7,
   "metadata": {},
   "outputs": [
    {
     "data": {
      "text/html": [
       "<div>\n",
       "<style scoped>\n",
       "    .dataframe tbody tr th:only-of-type {\n",
       "        vertical-align: middle;\n",
       "    }\n",
       "\n",
       "    .dataframe tbody tr th {\n",
       "        vertical-align: top;\n",
       "    }\n",
       "\n",
       "    .dataframe thead th {\n",
       "        text-align: right;\n",
       "    }\n",
       "</style>\n",
       "<table border=\"1\" class=\"dataframe\">\n",
       "  <thead>\n",
       "    <tr style=\"text-align: right;\">\n",
       "      <th></th>\n",
       "      <th>SA2</th>\n",
       "      <th>SA2 NAME</th>\n",
       "      <th>Earners 2019</th>\n",
       "      <th>Median Age 2019</th>\n",
       "      <th>Mean $ 2019</th>\n",
       "      <th>Mean Weekly $ 2019</th>\n",
       "    </tr>\n",
       "  </thead>\n",
       "  <tbody>\n",
       "    <tr>\n",
       "      <th>0</th>\n",
       "      <td>201011001</td>\n",
       "      <td>Alfredton</td>\n",
       "      <td>7989</td>\n",
       "      <td>42</td>\n",
       "      <td>63668</td>\n",
       "      <td>1224.4</td>\n",
       "    </tr>\n",
       "    <tr>\n",
       "      <th>1</th>\n",
       "      <td>201011002</td>\n",
       "      <td>Ballarat</td>\n",
       "      <td>7595</td>\n",
       "      <td>47</td>\n",
       "      <td>77876</td>\n",
       "      <td>1497.6</td>\n",
       "    </tr>\n",
       "    <tr>\n",
       "      <th>2</th>\n",
       "      <td>201011003</td>\n",
       "      <td>Ballarat - North</td>\n",
       "      <td>13598</td>\n",
       "      <td>43</td>\n",
       "      <td>60367</td>\n",
       "      <td>1160.9</td>\n",
       "    </tr>\n",
       "    <tr>\n",
       "      <th>3</th>\n",
       "      <td>201011004</td>\n",
       "      <td>Ballarat - South</td>\n",
       "      <td>12722</td>\n",
       "      <td>40</td>\n",
       "      <td>50778</td>\n",
       "      <td>976.5</td>\n",
       "    </tr>\n",
       "    <tr>\n",
       "      <th>4</th>\n",
       "      <td>201011005</td>\n",
       "      <td>Buninyong</td>\n",
       "      <td>4249</td>\n",
       "      <td>46</td>\n",
       "      <td>63258</td>\n",
       "      <td>1216.5</td>\n",
       "    </tr>\n",
       "    <tr>\n",
       "      <th>...</th>\n",
       "      <td>...</td>\n",
       "      <td>...</td>\n",
       "      <td>...</td>\n",
       "      <td>...</td>\n",
       "      <td>...</td>\n",
       "      <td>...</td>\n",
       "    </tr>\n",
       "    <tr>\n",
       "      <th>457</th>\n",
       "      <td>217031476</td>\n",
       "      <td>Otway</td>\n",
       "      <td>2360</td>\n",
       "      <td>51</td>\n",
       "      <td>46448</td>\n",
       "      <td>893.2</td>\n",
       "    </tr>\n",
       "    <tr>\n",
       "      <th>458</th>\n",
       "      <td>217041477</td>\n",
       "      <td>Moyne - East</td>\n",
       "      <td>4081</td>\n",
       "      <td>46</td>\n",
       "      <td>55573</td>\n",
       "      <td>1068.7</td>\n",
       "    </tr>\n",
       "    <tr>\n",
       "      <th>459</th>\n",
       "      <td>217041478</td>\n",
       "      <td>Moyne - West</td>\n",
       "      <td>5852</td>\n",
       "      <td>48</td>\n",
       "      <td>55547</td>\n",
       "      <td>1068.2</td>\n",
       "    </tr>\n",
       "    <tr>\n",
       "      <th>460</th>\n",
       "      <td>217041479</td>\n",
       "      <td>Warrnambool - North</td>\n",
       "      <td>13157</td>\n",
       "      <td>43</td>\n",
       "      <td>56099</td>\n",
       "      <td>1078.8</td>\n",
       "    </tr>\n",
       "    <tr>\n",
       "      <th>461</th>\n",
       "      <td>217041480</td>\n",
       "      <td>Warrnambool - South</td>\n",
       "      <td>8052</td>\n",
       "      <td>44</td>\n",
       "      <td>58247</td>\n",
       "      <td>1120.1</td>\n",
       "    </tr>\n",
       "  </tbody>\n",
       "</table>\n",
       "<p>462 rows × 6 columns</p>\n",
       "</div>"
      ],
      "text/plain": [
       "           SA2             SA2 NAME  Earners 2019  Median Age 2019  \\\n",
       "0    201011001            Alfredton          7989               42   \n",
       "1    201011002             Ballarat          7595               47   \n",
       "2    201011003     Ballarat - North         13598               43   \n",
       "3    201011004     Ballarat - South         12722               40   \n",
       "4    201011005            Buninyong          4249               46   \n",
       "..         ...                  ...           ...              ...   \n",
       "457  217031476                Otway          2360               51   \n",
       "458  217041477         Moyne - East          4081               46   \n",
       "459  217041478         Moyne - West          5852               48   \n",
       "460  217041479  Warrnambool - North         13157               43   \n",
       "461  217041480  Warrnambool - South          8052               44   \n",
       "\n",
       "     Mean $ 2019  Mean Weekly $ 2019  \n",
       "0          63668              1224.4  \n",
       "1          77876              1497.6  \n",
       "2          60367              1160.9  \n",
       "3          50778               976.5  \n",
       "4          63258              1216.5  \n",
       "..           ...                 ...  \n",
       "457        46448               893.2  \n",
       "458        55573              1068.7  \n",
       "459        55547              1068.2  \n",
       "460        56099              1078.8  \n",
       "461        58247              1120.1  \n",
       "\n",
       "[462 rows x 6 columns]"
      ]
     },
     "execution_count": 7,
     "metadata": {},
     "output_type": "execute_result"
    }
   ],
   "source": [
    "# create monthly income by sa2\n",
    "income2019['Mean Weekly $ 2019'] = income2019['Mean $ 2019']/52\n",
    "income2019['Mean Weekly $ 2019'] = income2019['Mean Weekly $ 2019'].round(1)\n",
    "income2019"
   ]
  },
  {
   "cell_type": "code",
   "execution_count": 8,
   "metadata": {},
   "outputs": [],
   "source": [
    "rent_income_sa2 = pd.merge(prop_df, income2019, how='left', left_on=['SA2 code'], right_on=['SA2'])"
   ]
  },
  {
   "cell_type": "code",
   "execution_count": 9,
   "metadata": {},
   "outputs": [
    {
     "data": {
      "text/html": [
       "<div>\n",
       "<style scoped>\n",
       "    .dataframe tbody tr th:only-of-type {\n",
       "        vertical-align: middle;\n",
       "    }\n",
       "\n",
       "    .dataframe tbody tr th {\n",
       "        vertical-align: top;\n",
       "    }\n",
       "\n",
       "    .dataframe thead th {\n",
       "        text-align: right;\n",
       "    }\n",
       "</style>\n",
       "<table border=\"1\" class=\"dataframe\">\n",
       "  <thead>\n",
       "    <tr style=\"text-align: right;\">\n",
       "      <th></th>\n",
       "      <th>cost_text</th>\n",
       "      <th>property_type</th>\n",
       "      <th>Longitude</th>\n",
       "      <th>Latitude</th>\n",
       "      <th>New_Coordinates</th>\n",
       "      <th>SA2 code</th>\n",
       "      <th>SA2 name</th>\n",
       "      <th>Earners 2019</th>\n",
       "      <th>Median Age 2019</th>\n",
       "      <th>Mean $ 2019</th>\n",
       "      <th>Mean Weekly $ 2019</th>\n",
       "    </tr>\n",
       "  </thead>\n",
       "  <tbody>\n",
       "    <tr>\n",
       "      <th>0</th>\n",
       "      <td>33.000000</td>\n",
       "      <td>House</td>\n",
       "      <td>-38.169793</td>\n",
       "      <td>146.257828</td>\n",
       "      <td>POINT (146.2578282 -38.1697927)</td>\n",
       "      <td>205041095</td>\n",
       "      <td>Moe - Newborough</td>\n",
       "      <td>8017.0</td>\n",
       "      <td>44.0</td>\n",
       "      <td>56148.0</td>\n",
       "      <td>1079.8</td>\n",
       "    </tr>\n",
       "    <tr>\n",
       "      <th>1</th>\n",
       "      <td>40.000000</td>\n",
       "      <td>Apartment / Unit / Flat</td>\n",
       "      <td>-37.850119</td>\n",
       "      <td>144.992002</td>\n",
       "      <td>POINT (144.9920021 -37.8501194)</td>\n",
       "      <td>206061136</td>\n",
       "      <td>Prahran - Windsor</td>\n",
       "      <td>15150.0</td>\n",
       "      <td>34.0</td>\n",
       "      <td>88528.0</td>\n",
       "      <td>1702.5</td>\n",
       "    </tr>\n",
       "    <tr>\n",
       "      <th>2</th>\n",
       "      <td>46.153846</td>\n",
       "      <td>House</td>\n",
       "      <td>-37.802927</td>\n",
       "      <td>144.960623</td>\n",
       "      <td>POINT (144.9606235 -37.802927)</td>\n",
       "      <td>206041117</td>\n",
       "      <td>Carlton</td>\n",
       "      <td>9422.0</td>\n",
       "      <td>30.0</td>\n",
       "      <td>59791.0</td>\n",
       "      <td>1149.8</td>\n",
       "    </tr>\n",
       "    <tr>\n",
       "      <th>3</th>\n",
       "      <td>55.000000</td>\n",
       "      <td>Apartment / Unit / Flat</td>\n",
       "      <td>-37.815716</td>\n",
       "      <td>144.952956</td>\n",
       "      <td>POINT (144.9529559 -37.8157157)</td>\n",
       "      <td>206041505</td>\n",
       "      <td>Melbourne CBD - West</td>\n",
       "      <td>NaN</td>\n",
       "      <td>NaN</td>\n",
       "      <td>NaN</td>\n",
       "      <td>NaN</td>\n",
       "    </tr>\n",
       "    <tr>\n",
       "      <th>4</th>\n",
       "      <td>60.000000</td>\n",
       "      <td>Apartment / Unit / Flat</td>\n",
       "      <td>-37.815014</td>\n",
       "      <td>144.953869</td>\n",
       "      <td>POINT (144.9538694 -37.8150137)</td>\n",
       "      <td>206041505</td>\n",
       "      <td>Melbourne CBD - West</td>\n",
       "      <td>NaN</td>\n",
       "      <td>NaN</td>\n",
       "      <td>NaN</td>\n",
       "      <td>NaN</td>\n",
       "    </tr>\n",
       "    <tr>\n",
       "      <th>...</th>\n",
       "      <td>...</td>\n",
       "      <td>...</td>\n",
       "      <td>...</td>\n",
       "      <td>...</td>\n",
       "      <td>...</td>\n",
       "      <td>...</td>\n",
       "      <td>...</td>\n",
       "      <td>...</td>\n",
       "      <td>...</td>\n",
       "      <td>...</td>\n",
       "      <td>...</td>\n",
       "    </tr>\n",
       "    <tr>\n",
       "      <th>6578</th>\n",
       "      <td>3750.000000</td>\n",
       "      <td>Townhouse</td>\n",
       "      <td>-37.822397</td>\n",
       "      <td>144.938237</td>\n",
       "      <td>POINT (144.938237 -37.8223967)</td>\n",
       "      <td>206041118</td>\n",
       "      <td>Docklands</td>\n",
       "      <td>11263.0</td>\n",
       "      <td>32.0</td>\n",
       "      <td>71476.0</td>\n",
       "      <td>1374.5</td>\n",
       "    </tr>\n",
       "    <tr>\n",
       "      <th>6579</th>\n",
       "      <td>3750.000000</td>\n",
       "      <td>Apartment / Unit / Flat</td>\n",
       "      <td>-37.830116</td>\n",
       "      <td>144.956904</td>\n",
       "      <td>POINT (144.9569041 -37.8301164)</td>\n",
       "      <td>206051512</td>\n",
       "      <td>South Melbourne</td>\n",
       "      <td>NaN</td>\n",
       "      <td>NaN</td>\n",
       "      <td>NaN</td>\n",
       "      <td>NaN</td>\n",
       "    </tr>\n",
       "    <tr>\n",
       "      <th>6580</th>\n",
       "      <td>4500.000000</td>\n",
       "      <td>Apartment / Unit / Flat</td>\n",
       "      <td>-37.814172</td>\n",
       "      <td>144.974005</td>\n",
       "      <td>POINT (144.9740049 -37.8141725)</td>\n",
       "      <td>206041503</td>\n",
       "      <td>Melbourne CBD - East</td>\n",
       "      <td>NaN</td>\n",
       "      <td>NaN</td>\n",
       "      <td>NaN</td>\n",
       "      <td>NaN</td>\n",
       "    </tr>\n",
       "    <tr>\n",
       "      <th>6581</th>\n",
       "      <td>5000.000000</td>\n",
       "      <td>House</td>\n",
       "      <td>-38.372703</td>\n",
       "      <td>144.785690</td>\n",
       "      <td>POINT (144.7856897 -38.372703)</td>\n",
       "      <td>214021383</td>\n",
       "      <td>Point Nepean</td>\n",
       "      <td>10772.0</td>\n",
       "      <td>50.0</td>\n",
       "      <td>61551.0</td>\n",
       "      <td>1183.7</td>\n",
       "    </tr>\n",
       "    <tr>\n",
       "      <th>6582</th>\n",
       "      <td>5500.000000</td>\n",
       "      <td>House</td>\n",
       "      <td>-37.915945</td>\n",
       "      <td>144.998900</td>\n",
       "      <td>POINT (144.9989003 -37.9159452)</td>\n",
       "      <td>208011169</td>\n",
       "      <td>Brighton (Vic.)</td>\n",
       "      <td>16253.0</td>\n",
       "      <td>50.0</td>\n",
       "      <td>137864.0</td>\n",
       "      <td>2651.2</td>\n",
       "    </tr>\n",
       "  </tbody>\n",
       "</table>\n",
       "<p>6583 rows × 11 columns</p>\n",
       "</div>"
      ],
      "text/plain": [
       "        cost_text            property_type  Longitude    Latitude  \\\n",
       "0       33.000000                    House -38.169793  146.257828   \n",
       "1       40.000000  Apartment / Unit / Flat -37.850119  144.992002   \n",
       "2       46.153846                    House -37.802927  144.960623   \n",
       "3       55.000000  Apartment / Unit / Flat -37.815716  144.952956   \n",
       "4       60.000000  Apartment / Unit / Flat -37.815014  144.953869   \n",
       "...           ...                      ...        ...         ...   \n",
       "6578  3750.000000                Townhouse -37.822397  144.938237   \n",
       "6579  3750.000000  Apartment / Unit / Flat -37.830116  144.956904   \n",
       "6580  4500.000000  Apartment / Unit / Flat -37.814172  144.974005   \n",
       "6581  5000.000000                    House -38.372703  144.785690   \n",
       "6582  5500.000000                    House -37.915945  144.998900   \n",
       "\n",
       "                      New_Coordinates   SA2 code              SA2 name  \\\n",
       "0     POINT (146.2578282 -38.1697927)  205041095      Moe - Newborough   \n",
       "1     POINT (144.9920021 -37.8501194)  206061136     Prahran - Windsor   \n",
       "2      POINT (144.9606235 -37.802927)  206041117               Carlton   \n",
       "3     POINT (144.9529559 -37.8157157)  206041505  Melbourne CBD - West   \n",
       "4     POINT (144.9538694 -37.8150137)  206041505  Melbourne CBD - West   \n",
       "...                               ...        ...                   ...   \n",
       "6578   POINT (144.938237 -37.8223967)  206041118             Docklands   \n",
       "6579  POINT (144.9569041 -37.8301164)  206051512       South Melbourne   \n",
       "6580  POINT (144.9740049 -37.8141725)  206041503  Melbourne CBD - East   \n",
       "6581   POINT (144.7856897 -38.372703)  214021383          Point Nepean   \n",
       "6582  POINT (144.9989003 -37.9159452)  208011169       Brighton (Vic.)   \n",
       "\n",
       "      Earners 2019  Median Age 2019  Mean $ 2019  Mean Weekly $ 2019  \n",
       "0           8017.0             44.0      56148.0              1079.8  \n",
       "1          15150.0             34.0      88528.0              1702.5  \n",
       "2           9422.0             30.0      59791.0              1149.8  \n",
       "3              NaN              NaN          NaN                 NaN  \n",
       "4              NaN              NaN          NaN                 NaN  \n",
       "...            ...              ...          ...                 ...  \n",
       "6578       11263.0             32.0      71476.0              1374.5  \n",
       "6579           NaN              NaN          NaN                 NaN  \n",
       "6580           NaN              NaN          NaN                 NaN  \n",
       "6581       10772.0             50.0      61551.0              1183.7  \n",
       "6582       16253.0             50.0     137864.0              2651.2  \n",
       "\n",
       "[6583 rows x 11 columns]"
      ]
     },
     "execution_count": 9,
     "metadata": {},
     "output_type": "execute_result"
    }
   ],
   "source": [
    "rent_income_sa2.drop(['SA2', 'SA2 NAME'], axis=1)"
   ]
  },
  {
   "cell_type": "code",
   "execution_count": 10,
   "metadata": {},
   "outputs": [],
   "source": [
    "rent_income_sa2 = rent_income_sa2.rename({'Mean Weekly $ 2019': 'weekly_income'}, axis=1)"
   ]
  },
  {
   "cell_type": "code",
   "execution_count": 11,
   "metadata": {},
   "outputs": [],
   "source": [
    "rent_income_sa2['num_property_type'] = rent_income_sa2['property_type']\n",
    "rent_income_sa2['num_property_type'].replace(['House', 'Apartment / Unit / Flat', 'Studio', 'Semi-Detached',\n",
    "       'Townhouse', 'Villa', 'Terrace', 'New Apartments / Off the Plan',\n",
    "       'Acreage / Semi-Rural', 'Duplex', 'Rural'], [0, 1, 2, 3, 4, 5, 6, 7, 8, 9, 10], inplace=True)"
   ]
  },
  {
   "cell_type": "markdown",
   "metadata": {},
   "source": [
    "## <font color='brown'>Visualization</font>"
   ]
  },
  {
   "cell_type": "code",
   "execution_count": 12,
   "metadata": {},
   "outputs": [],
   "source": [
    "# create agg income by sa2\n",
    "earner_df = income_df[['Earners 2015', 'Earners 2016', 'Earners 2017', 'Earners 2018', 'Earners 2019']]\n",
    "mean_income_df = income_df[['Mean $ 2015', 'Mean $ 2016', 'Mean $ 2017', 'Mean $ 2018', 'Mean $ 2019']]\n",
    "earner_df = earner_df.mean().reset_index()\n",
    "mean_income_df = mean_income_df.mean().reset_index()"
   ]
  },
  {
   "cell_type": "code",
   "execution_count": 14,
   "metadata": {},
   "outputs": [
    {
     "data": {
      "text/plain": [
       "Text(0.5, 1.0, 'Correlation Between Income by SA2 and Rental Price')"
      ]
     },
     "execution_count": 14,
     "metadata": {},
     "output_type": "execute_result"
    },
    {
     "data": {
      "image/png": "[encoded data removed]",
      "text/plain": [
       "<Figure size 576x288 with 2 Axes>"
      ]
     },
     "metadata": {
      "needs_background": "light"
     },
     "output_type": "display_data"
    }
   ],
   "source": [
    "col_name = ['cost_text', 'num_property_type', 'Earners 2019', 'Median Age 2019', 'weekly_income']\n",
    "label = ['Rental Cost', 'Type', 'No. Earners SA2', 'Median Earner Age SA2', 'Mean Weekly Income']\n",
    "corr_matrix = rent_income_sa2[col_name].corr()\n",
    "\n",
    "fig, ax = plt.subplots(figsize=(8, 4))\n",
    "sns.heatmap(corr_matrix, cmap = \"RdPu\", annot=True, ax=ax, cbar_kws={'label': 'Correlation Coefficient'})\n",
    "ax.set_xticklabels(label, rotation = 40)\n",
    "ax.set_yticklabels(label)\n",
    "ax.set_title(\"Correlation Between Income by SA2 and Rental Price\")\n"
   ]
  },
  {
   "cell_type": "markdown",
   "metadata": {},
   "source": [
    "### Scatter plot"
   ]
  },
  {
   "cell_type": "code",
   "execution_count": 16,
   "metadata": {},
   "outputs": [
    {
     "data": {
      "image/png": "[encoded data removed]",
      "text/plain": [
       "<Figure size 720x504 with 1 Axes>"
      ]
     },
     "metadata": {
      "needs_background": "light"
     },
     "output_type": "display_data"
    }
   ],
   "source": [
    "rent_income_sa2.plot(x=\"weekly_income\", y=[\"cost_text\"], kind = 'scatter', s=2\\\n",
    "    , figsize=(10,7), ylabel = 'Rental cost', xlabel = 'Weekly Income', title = 'Scatter Plot of Rent on Income by SA2')\n",
    "plt.show()"
   ]
  },
  {
   "cell_type": "code",
   "execution_count": null,
   "metadata": {},
   "outputs": [
    {
     "data": {
      "text/plain": [
       "<matplotlib.legend.Legend at 0x7feec3182cd0>"
      ]
     },
     "execution_count": 392,
     "metadata": {},
     "output_type": "execute_result"
    },
    {
     "data": {
      "image/png": "[encoded data removed]",
      "text/plain": [
       "<Figure size 432x288 with 1 Axes>"
      ]
     },
     "metadata": {
      "needs_background": "light"
     },
     "output_type": "display_data"
    }
   ],
   "source": [
    "plt.scatter(rent_income_sa2['SA2 code'], rent_income_sa2['cost_text'], s=3, label='Rent')\n",
    "plt.scatter(rent_income_sa2['SA2 code'], rent_income_sa2['Mean Weekly $ 2019'], s=3, label='Income')\n",
    "plt.xlabel('SA2 Code')\n",
    "plt.title('Rent on Income by SA2')\n",
    "plt.legend()"
   ]
  },
  {
   "cell_type": "markdown",
   "metadata": {},
   "source": [
    "### Line Plot"
   ]
  },
  {
   "cell_type": "code",
   "execution_count": null,
   "metadata": {},
   "outputs": [
    {
     "data": {
      "text/html": [
       "<div>\n",
       "<style scoped>\n",
       "    .dataframe tbody tr th:only-of-type {\n",
       "        vertical-align: middle;\n",
       "    }\n",
       "\n",
       "    .dataframe tbody tr th {\n",
       "        vertical-align: top;\n",
       "    }\n",
       "\n",
       "    .dataframe thead th {\n",
       "        text-align: right;\n",
       "    }\n",
       "</style>\n",
       "<table border=\"1\" class=\"dataframe\">\n",
       "  <thead>\n",
       "    <tr style=\"text-align: right;\">\n",
       "      <th></th>\n",
       "      <th>SA2 code</th>\n",
       "      <th>cost_text</th>\n",
       "      <th>Mean Weekly $ 2019</th>\n",
       "    </tr>\n",
       "  </thead>\n",
       "  <tbody>\n",
       "    <tr>\n",
       "      <th>0</th>\n",
       "      <td>201011001</td>\n",
       "      <td>423.421053</td>\n",
       "      <td>1224.4</td>\n",
       "    </tr>\n",
       "    <tr>\n",
       "      <th>1</th>\n",
       "      <td>201011002</td>\n",
       "      <td>398.928571</td>\n",
       "      <td>1497.6</td>\n",
       "    </tr>\n",
       "    <tr>\n",
       "      <th>2</th>\n",
       "      <td>201011005</td>\n",
       "      <td>410.000000</td>\n",
       "      <td>1216.5</td>\n",
       "    </tr>\n",
       "    <tr>\n",
       "      <th>3</th>\n",
       "      <td>201011006</td>\n",
       "      <td>440.000000</td>\n",
       "      <td>1054.7</td>\n",
       "    </tr>\n",
       "    <tr>\n",
       "      <th>4</th>\n",
       "      <td>201011008</td>\n",
       "      <td>357.916667</td>\n",
       "      <td>969.3</td>\n",
       "    </tr>\n",
       "    <tr>\n",
       "      <th>...</th>\n",
       "      <td>...</td>\n",
       "      <td>...</td>\n",
       "      <td>...</td>\n",
       "    </tr>\n",
       "    <tr>\n",
       "      <th>343</th>\n",
       "      <td>217031474</td>\n",
       "      <td>340.000000</td>\n",
       "      <td>1061.6</td>\n",
       "    </tr>\n",
       "    <tr>\n",
       "      <th>344</th>\n",
       "      <td>217031476</td>\n",
       "      <td>395.000000</td>\n",
       "      <td>893.2</td>\n",
       "    </tr>\n",
       "    <tr>\n",
       "      <th>345</th>\n",
       "      <td>217041477</td>\n",
       "      <td>300.000000</td>\n",
       "      <td>1068.7</td>\n",
       "    </tr>\n",
       "    <tr>\n",
       "      <th>346</th>\n",
       "      <td>217041479</td>\n",
       "      <td>367.142857</td>\n",
       "      <td>1078.8</td>\n",
       "    </tr>\n",
       "    <tr>\n",
       "      <th>347</th>\n",
       "      <td>217041480</td>\n",
       "      <td>412.000000</td>\n",
       "      <td>1120.1</td>\n",
       "    </tr>\n",
       "  </tbody>\n",
       "</table>\n",
       "<p>348 rows × 3 columns</p>\n",
       "</div>"
      ],
      "text/plain": [
       "      SA2 code   cost_text  Mean Weekly $ 2019\n",
       "0    201011001  423.421053              1224.4\n",
       "1    201011002  398.928571              1497.6\n",
       "2    201011005  410.000000              1216.5\n",
       "3    201011006  440.000000              1054.7\n",
       "4    201011008  357.916667               969.3\n",
       "..         ...         ...                 ...\n",
       "343  217031474  340.000000              1061.6\n",
       "344  217031476  395.000000               893.2\n",
       "345  217041477  300.000000              1068.7\n",
       "346  217041479  367.142857              1078.8\n",
       "347  217041480  412.000000              1120.1\n",
       "\n",
       "[348 rows x 3 columns]"
      ]
     },
     "execution_count": 370,
     "metadata": {},
     "output_type": "execute_result"
    }
   ],
   "source": [
    "# aggregate df to get mean rental cost and income of SA2\n",
    "rent_sa2 = rent_income_sa2[['SA2 code', 'cost_text', 'Mean Weekly $ 2019']]\n",
    "mean_rent_income_sa2 = rent_sa2.groupby(['SA2 code']).mean().reset_index()\n",
    "mean_rent_income_sa2\n"
   ]
  },
  {
   "cell_type": "code",
   "execution_count": null,
   "metadata": {},
   "outputs": [
    {
     "data": {
      "text/plain": [
       "<matplotlib.legend.Legend at 0x7feec0e181c0>"
      ]
     },
     "execution_count": 384,
     "metadata": {},
     "output_type": "execute_result"
    },
    {
     "data": {
      "image/png": "[encoded data removed]",
      "text/plain": [
       "<Figure size 432x288 with 1 Axes>"
      ]
     },
     "metadata": {
      "needs_background": "light"
     },
     "output_type": "display_data"
    }
   ],
   "source": [
    "# plot using line graph to show trends\n",
    "plt.plot(mean_rent_income_sa2['SA2 code'], mean_rent_income_sa2['cost_text'], 'g', label='Rent')\n",
    "plt.plot(mean_rent_income_sa2['SA2 code'], mean_rent_income_sa2['Mean Weekly $ 2019'], 'b', label='Income')\n",
    "plt.title('Rent on Income by SA2')\n",
    "plt.legend()"
   ]
  },
  {
   "cell_type": "markdown",
   "metadata": {},
   "source": [
    "## <font color='brown'>Primary Modelling</font>"
   ]
  },
  {
   "cell_type": "code",
   "execution_count": null,
   "metadata": {},
   "outputs": [],
   "source": [
    "# generate a simple linear model\n",
    "fit_OLS = ols(\n",
    "   formula = \"cost_text ~  weekly_income\",\n",
    "   data = rent_income_sa2\n",
    ").fit()"
   ]
  },
  {
   "cell_type": "code",
   "execution_count": null,
   "metadata": {},
   "outputs": [
    {
     "data": {
      "text/html": [
       "<table class=\"simpletable\">\n",
       "<caption>OLS Regression Results</caption>\n",
       "<tr>\n",
       "  <th>Dep. Variable:</th>        <td>cost_text</td>    <th>  R-squared:         </th> <td>   0.104</td> \n",
       "</tr>\n",
       "<tr>\n",
       "  <th>Model:</th>                   <td>OLS</td>       <th>  Adj. R-squared:    </th> <td>   0.104</td> \n",
       "</tr>\n",
       "<tr>\n",
       "  <th>Method:</th>             <td>Least Squares</td>  <th>  F-statistic:       </th> <td>   522.1</td> \n",
       "</tr>\n",
       "<tr>\n",
       "  <th>Date:</th>             <td>Mon, 19 Sep 2022</td> <th>  Prob (F-statistic):</th> <td>2.10e-109</td>\n",
       "</tr>\n",
       "<tr>\n",
       "  <th>Time:</th>                 <td>23:32:24</td>     <th>  Log-Likelihood:    </th> <td> -31402.</td> \n",
       "</tr>\n",
       "<tr>\n",
       "  <th>No. Observations:</th>      <td>  4484</td>      <th>  AIC:               </th> <td>6.281e+04</td>\n",
       "</tr>\n",
       "<tr>\n",
       "  <th>Df Residuals:</th>          <td>  4482</td>      <th>  BIC:               </th> <td>6.282e+04</td>\n",
       "</tr>\n",
       "<tr>\n",
       "  <th>Df Model:</th>              <td>     1</td>      <th>                     </th>     <td> </td>    \n",
       "</tr>\n",
       "<tr>\n",
       "  <th>Covariance Type:</th>      <td>nonrobust</td>    <th>                     </th>     <td> </td>    \n",
       "</tr>\n",
       "</table>\n",
       "<table class=\"simpletable\">\n",
       "<tr>\n",
       "        <td></td>           <th>coef</th>     <th>std err</th>      <th>t</th>      <th>P>|t|</th>  <th>[0.025</th>    <th>0.975]</th>  \n",
       "</tr>\n",
       "<tr>\n",
       "  <th>Intercept</th>     <td>  209.2566</td> <td>   13.614</td> <td>   15.370</td> <td> 0.000</td> <td>  182.566</td> <td>  235.947</td>\n",
       "</tr>\n",
       "<tr>\n",
       "  <th>weekly_income</th> <td>    0.2231</td> <td>    0.010</td> <td>   22.850</td> <td> 0.000</td> <td>    0.204</td> <td>    0.242</td>\n",
       "</tr>\n",
       "</table>\n",
       "<table class=\"simpletable\">\n",
       "<tr>\n",
       "  <th>Omnibus:</th>       <td>5198.373</td> <th>  Durbin-Watson:     </th>  <td>   0.854</td> \n",
       "</tr>\n",
       "<tr>\n",
       "  <th>Prob(Omnibus):</th>  <td> 0.000</td>  <th>  Jarque-Bera (JB):  </th> <td>845347.884</td>\n",
       "</tr>\n",
       "<tr>\n",
       "  <th>Skew:</th>           <td> 5.876</td>  <th>  Prob(JB):          </th>  <td>    0.00</td> \n",
       "</tr>\n",
       "<tr>\n",
       "  <th>Kurtosis:</th>       <td>69.231</td>  <th>  Cond. No.          </th>  <td>4.77e+03</td> \n",
       "</tr>\n",
       "</table><br/><br/>Notes:<br/>[1] Standard Errors assume that the covariance matrix of the errors is correctly specified.<br/>[2] The condition number is large, 4.77e+03. This might indicate that there are<br/>strong multicollinearity or other numerical problems."
      ],
      "text/plain": [
       "<class 'statsmodels.iolib.summary.Summary'>\n",
       "\"\"\"\n",
       "                            OLS Regression Results                            \n",
       "==============================================================================\n",
       "Dep. Variable:              cost_text   R-squared:                       0.104\n",
       "Model:                            OLS   Adj. R-squared:                  0.104\n",
       "Method:                 Least Squares   F-statistic:                     522.1\n",
       "Date:                Mon, 19 Sep 2022   Prob (F-statistic):          2.10e-109\n",
       "Time:                        23:32:24   Log-Likelihood:                -31402.\n",
       "No. Observations:                4484   AIC:                         6.281e+04\n",
       "Df Residuals:                    4482   BIC:                         6.282e+04\n",
       "Df Model:                           1                                         \n",
       "Covariance Type:            nonrobust                                         \n",
       "=================================================================================\n",
       "                    coef    std err          t      P>|t|      [0.025      0.975]\n",
       "---------------------------------------------------------------------------------\n",
       "Intercept       209.2566     13.614     15.370      0.000     182.566     235.947\n",
       "weekly_income     0.2231      0.010     22.850      0.000       0.204       0.242\n",
       "==============================================================================\n",
       "Omnibus:                     5198.373   Durbin-Watson:                   0.854\n",
       "Prob(Omnibus):                  0.000   Jarque-Bera (JB):           845347.884\n",
       "Skew:                           5.876   Prob(JB):                         0.00\n",
       "Kurtosis:                      69.231   Cond. No.                     4.77e+03\n",
       "==============================================================================\n",
       "\n",
       "Notes:\n",
       "[1] Standard Errors assume that the covariance matrix of the errors is correctly specified.\n",
       "[2] The condition number is large, 4.77e+03. This might indicate that there are\n",
       "strong multicollinearity or other numerical problems.\n",
       "\"\"\""
      ]
     },
     "execution_count": 420,
     "metadata": {},
     "output_type": "execute_result"
    }
   ],
   "source": [
    "# check the fit of the model\n",
    "fit_OLS.summary()"
   ]
  },
  {
   "cell_type": "code",
   "execution_count": null,
   "metadata": {},
   "outputs": [],
   "source": []
  }
 ],
 "metadata": {
  "kernelspec": {
   "display_name": "Python 3 (ipykernel)",
   "language": "python",
   "name": "python3"
  },
  "language_info": {
   "codemirror_mode": {
    "name": "ipython",
    "version": 3
   },
   "file_extension": ".py",
   "mimetype": "text/x-python",
   "name": "python",
   "nbconvert_exporter": "python",
   "pygments_lexer": "ipython3",
   "version": "3.9.6"
  },
  "vscode": {
   "interpreter": {
    "hash": "2bc30d7abdb3a22ddef7f5cd25a0898807b04a558bc5aa3176448dfa0cf24d9b"
   }
  }
 },
 "nbformat": 4,
 "nbformat_minor": 4
}
