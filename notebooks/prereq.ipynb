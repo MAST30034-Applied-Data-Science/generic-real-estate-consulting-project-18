{
 "cells": [
  {
   "cell_type": "code",
   "execution_count": 1,
   "id": "331f5eb2-3a97-43c6-a2bd-e035cad25955",
   "metadata": {},
   "outputs": [],
   "source": [
    "import os\n",
    "# make directory folders where necessary to ensure runnability of code\n",
    "\n",
    "dir = os.getcwd().strip('notebooks')\n",
    "if not os.path.exists(dir + 'data/curated'):\n",
    "    os.mkdir(dir + 'data/curated')\n",
    "    os.mkdir(dir + 'data/curated/POIs')\n",
    "    os.mkdir(dir + 'data/curated/POIs/POIs')"
   ]
  }
 ],
 "metadata": {
  "kernelspec": {
   "display_name": "Python 3 (ipykernel)",
   "language": "python",
   "name": "python3"
  },
  "language_info": {
   "codemirror_mode": {
    "name": "ipython",
    "version": 3
   },
   "file_extension": ".py",
   "mimetype": "text/x-python",
   "name": "python",
   "nbconvert_exporter": "python",
   "pygments_lexer": "ipython3",
   "version": "3.9.6"
  }
 },
 "nbformat": 4,
 "nbformat_minor": 5
}
