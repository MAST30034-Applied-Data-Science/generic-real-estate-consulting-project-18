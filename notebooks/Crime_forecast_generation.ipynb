{
 "cells": [
  {
   "cell_type": "code",
   "execution_count": 90,
   "id": "7ef19886-705a-45d4-8bce-3430de134936",
   "metadata": {},
   "outputs": [],
   "source": [
    "# import packages\n",
    "import os\n",
    "import pandas as pd\n",
    "import matplotlib.pyplot as plt\n"
   ]
  },
  {
   "cell_type": "code",
   "execution_count": 67,
   "id": "2b79b334-d8b5-479b-bce6-175924c1497f",
   "metadata": {},
   "outputs": [],
   "source": [
    "# set directory\n",
    "main_directory = os.getcwd().strip('notebooks')"
   ]
  },
  {
   "cell_type": "code",
   "execution_count": 68,
   "id": "ccd621f5-9c82-44d6-bef0-f4c100961ca5",
   "metadata": {},
   "outputs": [],
   "source": [
    "# read in cleaned crime data\n",
    "crime_data = pd.read_csv(main_directory +'data/curated/crime/LGA_crime_clean.csv')"
   ]
  },
  {
   "cell_type": "code",
   "execution_count": 69,
   "id": "ca282952-47d2-4007-9464-08a50bf7847f",
   "metadata": {},
   "outputs": [
    {
     "data": {
      "text/html": [
       "<div>\n",
       "<style scoped>\n",
       "    .dataframe tbody tr th:only-of-type {\n",
       "        vertical-align: middle;\n",
       "    }\n",
       "\n",
       "    .dataframe tbody tr th {\n",
       "        vertical-align: top;\n",
       "    }\n",
       "\n",
       "    .dataframe thead th {\n",
       "        text-align: right;\n",
       "    }\n",
       "</style>\n",
       "<table border=\"1\" class=\"dataframe\">\n",
       "  <thead>\n",
       "    <tr style=\"text-align: right;\">\n",
       "      <th></th>\n",
       "      <th>Unnamed: 0</th>\n",
       "      <th>Year</th>\n",
       "      <th>LGA code</th>\n",
       "      <th>Offence Count</th>\n",
       "      <th>per_100,000_alleged_off</th>\n",
       "      <th>Alleged Offender Incidents</th>\n",
       "      <th>per_100,000_crim_incidents</th>\n",
       "      <th>Incidents Recorded</th>\n",
       "      <th>per_100,000_fam_incidents</th>\n",
       "      <th>Victim Reports</th>\n",
       "      <th>per_100,000_recorded_off</th>\n",
       "      <th>Year ending</th>\n",
       "      <th>Police Region</th>\n",
       "      <th>Family Incidents</th>\n",
       "      <th>per_100,000_vic_reports</th>\n",
       "      <th>total crime number</th>\n",
       "    </tr>\n",
       "  </thead>\n",
       "  <tbody>\n",
       "    <tr>\n",
       "      <th>0</th>\n",
       "      <td>0</td>\n",
       "      <td>2022.0</td>\n",
       "      <td>Banyule</td>\n",
       "      <td>7191.0</td>\n",
       "      <td>5604.2</td>\n",
       "      <td>2547.0</td>\n",
       "      <td>1985.0</td>\n",
       "      <td>5244.0</td>\n",
       "      <td>4086.9</td>\n",
       "      <td>2826.0</td>\n",
       "      <td>2202.4</td>\n",
       "      <td>March</td>\n",
       "      <td>1 North West Metro</td>\n",
       "      <td>1185.0</td>\n",
       "      <td>923.5</td>\n",
       "      <td>18993.0</td>\n",
       "    </tr>\n",
       "    <tr>\n",
       "      <th>1</th>\n",
       "      <td>1</td>\n",
       "      <td>2022.0</td>\n",
       "      <td>Brimbank</td>\n",
       "      <td>16839.0</td>\n",
       "      <td>8468.6</td>\n",
       "      <td>5062.0</td>\n",
       "      <td>2545.8</td>\n",
       "      <td>12330.0</td>\n",
       "      <td>6201.0</td>\n",
       "      <td>7056.0</td>\n",
       "      <td>3548.6</td>\n",
       "      <td>March</td>\n",
       "      <td>1 North West Metro</td>\n",
       "      <td>2776.0</td>\n",
       "      <td>1396.1</td>\n",
       "      <td>44063.0</td>\n",
       "    </tr>\n",
       "    <tr>\n",
       "      <th>2</th>\n",
       "      <td>2</td>\n",
       "      <td>2022.0</td>\n",
       "      <td>Darebin</td>\n",
       "      <td>12424.0</td>\n",
       "      <td>7703.4</td>\n",
       "      <td>4084.0</td>\n",
       "      <td>2532.2</td>\n",
       "      <td>9276.0</td>\n",
       "      <td>5751.5</td>\n",
       "      <td>5197.0</td>\n",
       "      <td>3222.3</td>\n",
       "      <td>March</td>\n",
       "      <td>1 North West Metro</td>\n",
       "      <td>1610.0</td>\n",
       "      <td>998.3</td>\n",
       "      <td>32591.0</td>\n",
       "    </tr>\n",
       "    <tr>\n",
       "      <th>3</th>\n",
       "      <td>3</td>\n",
       "      <td>2022.0</td>\n",
       "      <td>Hobsons Bay</td>\n",
       "      <td>5884.0</td>\n",
       "      <td>6147.4</td>\n",
       "      <td>2005.0</td>\n",
       "      <td>2094.8</td>\n",
       "      <td>4599.0</td>\n",
       "      <td>4804.9</td>\n",
       "      <td>2679.0</td>\n",
       "      <td>2798.9</td>\n",
       "      <td>March</td>\n",
       "      <td>1 North West Metro</td>\n",
       "      <td>1031.0</td>\n",
       "      <td>1077.2</td>\n",
       "      <td>16198.0</td>\n",
       "    </tr>\n",
       "    <tr>\n",
       "      <th>4</th>\n",
       "      <td>4</td>\n",
       "      <td>2022.0</td>\n",
       "      <td>Hume</td>\n",
       "      <td>17870.0</td>\n",
       "      <td>7208.5</td>\n",
       "      <td>5915.0</td>\n",
       "      <td>2386.0</td>\n",
       "      <td>12196.0</td>\n",
       "      <td>4919.7</td>\n",
       "      <td>7056.0</td>\n",
       "      <td>2846.3</td>\n",
       "      <td>March</td>\n",
       "      <td>1 North West Metro</td>\n",
       "      <td>3850.0</td>\n",
       "      <td>1553.0</td>\n",
       "      <td>46887.0</td>\n",
       "    </tr>\n",
       "    <tr>\n",
       "      <th>...</th>\n",
       "      <td>...</td>\n",
       "      <td>...</td>\n",
       "      <td>...</td>\n",
       "      <td>...</td>\n",
       "      <td>...</td>\n",
       "      <td>...</td>\n",
       "      <td>...</td>\n",
       "      <td>...</td>\n",
       "      <td>...</td>\n",
       "      <td>...</td>\n",
       "      <td>...</td>\n",
       "      <td>...</td>\n",
       "      <td>...</td>\n",
       "      <td>...</td>\n",
       "      <td>...</td>\n",
       "      <td>...</td>\n",
       "    </tr>\n",
       "    <tr>\n",
       "      <th>390</th>\n",
       "      <td>390</td>\n",
       "      <td>2018.0</td>\n",
       "      <td>Surf Coast</td>\n",
       "      <td>1142.0</td>\n",
       "      <td>3540.9</td>\n",
       "      <td>352.0</td>\n",
       "      <td>1091.4</td>\n",
       "      <td>952.0</td>\n",
       "      <td>2951.8</td>\n",
       "      <td>657.0</td>\n",
       "      <td>2037.1</td>\n",
       "      <td>March</td>\n",
       "      <td>4 Western</td>\n",
       "      <td>177.0</td>\n",
       "      <td>548.8</td>\n",
       "      <td>3280.0</td>\n",
       "    </tr>\n",
       "    <tr>\n",
       "      <th>391</th>\n",
       "      <td>391</td>\n",
       "      <td>2018.0</td>\n",
       "      <td>Swan Hill</td>\n",
       "      <td>2466.0</td>\n",
       "      <td>11878.6</td>\n",
       "      <td>1078.0</td>\n",
       "      <td>5192.7</td>\n",
       "      <td>1752.0</td>\n",
       "      <td>8439.3</td>\n",
       "      <td>924.0</td>\n",
       "      <td>4450.9</td>\n",
       "      <td>March</td>\n",
       "      <td>4 Western</td>\n",
       "      <td>609.0</td>\n",
       "      <td>2933.5</td>\n",
       "      <td>6829.0</td>\n",
       "    </tr>\n",
       "    <tr>\n",
       "      <th>392</th>\n",
       "      <td>392</td>\n",
       "      <td>2018.0</td>\n",
       "      <td>Warrnambool</td>\n",
       "      <td>3555.0</td>\n",
       "      <td>10197.1</td>\n",
       "      <td>1597.0</td>\n",
       "      <td>4580.8</td>\n",
       "      <td>2707.0</td>\n",
       "      <td>7764.7</td>\n",
       "      <td>1230.0</td>\n",
       "      <td>3528.1</td>\n",
       "      <td>March</td>\n",
       "      <td>4 Western</td>\n",
       "      <td>627.0</td>\n",
       "      <td>1798.5</td>\n",
       "      <td>9716.0</td>\n",
       "    </tr>\n",
       "    <tr>\n",
       "      <th>393</th>\n",
       "      <td>393</td>\n",
       "      <td>2018.0</td>\n",
       "      <td>West Wimmera</td>\n",
       "      <td>161.0</td>\n",
       "      <td>4168.8</td>\n",
       "      <td>60.0</td>\n",
       "      <td>1553.6</td>\n",
       "      <td>114.0</td>\n",
       "      <td>2951.8</td>\n",
       "      <td>70.0</td>\n",
       "      <td>1812.5</td>\n",
       "      <td>March</td>\n",
       "      <td>4 Western</td>\n",
       "      <td>41.0</td>\n",
       "      <td>1061.6</td>\n",
       "      <td>446.0</td>\n",
       "    </tr>\n",
       "    <tr>\n",
       "      <th>394</th>\n",
       "      <td>394</td>\n",
       "      <td>2018.0</td>\n",
       "      <td>Yarriambiack</td>\n",
       "      <td>538.0</td>\n",
       "      <td>8080.5</td>\n",
       "      <td>139.0</td>\n",
       "      <td>2087.7</td>\n",
       "      <td>358.0</td>\n",
       "      <td>5377.0</td>\n",
       "      <td>256.0</td>\n",
       "      <td>3845.0</td>\n",
       "      <td>March</td>\n",
       "      <td>4 Western</td>\n",
       "      <td>92.0</td>\n",
       "      <td>1381.8</td>\n",
       "      <td>1383.0</td>\n",
       "    </tr>\n",
       "  </tbody>\n",
       "</table>\n",
       "<p>395 rows × 16 columns</p>\n",
       "</div>"
      ],
      "text/plain": [
       "     Unnamed: 0    Year       LGA code  Offence Count  \\\n",
       "0             0  2022.0        Banyule         7191.0   \n",
       "1             1  2022.0       Brimbank        16839.0   \n",
       "2             2  2022.0        Darebin        12424.0   \n",
       "3             3  2022.0    Hobsons Bay         5884.0   \n",
       "4             4  2022.0           Hume        17870.0   \n",
       "..          ...     ...            ...            ...   \n",
       "390         390  2018.0     Surf Coast         1142.0   \n",
       "391         391  2018.0      Swan Hill         2466.0   \n",
       "392         392  2018.0    Warrnambool         3555.0   \n",
       "393         393  2018.0   West Wimmera          161.0   \n",
       "394         394  2018.0   Yarriambiack          538.0   \n",
       "\n",
       "     per_100,000_alleged_off  Alleged Offender Incidents  \\\n",
       "0                     5604.2                      2547.0   \n",
       "1                     8468.6                      5062.0   \n",
       "2                     7703.4                      4084.0   \n",
       "3                     6147.4                      2005.0   \n",
       "4                     7208.5                      5915.0   \n",
       "..                       ...                         ...   \n",
       "390                   3540.9                       352.0   \n",
       "391                  11878.6                      1078.0   \n",
       "392                  10197.1                      1597.0   \n",
       "393                   4168.8                        60.0   \n",
       "394                   8080.5                       139.0   \n",
       "\n",
       "     per_100,000_crim_incidents  Incidents Recorded  \\\n",
       "0                        1985.0              5244.0   \n",
       "1                        2545.8             12330.0   \n",
       "2                        2532.2              9276.0   \n",
       "3                        2094.8              4599.0   \n",
       "4                        2386.0             12196.0   \n",
       "..                          ...                 ...   \n",
       "390                      1091.4               952.0   \n",
       "391                      5192.7              1752.0   \n",
       "392                      4580.8              2707.0   \n",
       "393                      1553.6               114.0   \n",
       "394                      2087.7               358.0   \n",
       "\n",
       "     per_100,000_fam_incidents  Victim Reports  per_100,000_recorded_off  \\\n",
       "0                       4086.9          2826.0                    2202.4   \n",
       "1                       6201.0          7056.0                    3548.6   \n",
       "2                       5751.5          5197.0                    3222.3   \n",
       "3                       4804.9          2679.0                    2798.9   \n",
       "4                       4919.7          7056.0                    2846.3   \n",
       "..                         ...             ...                       ...   \n",
       "390                     2951.8           657.0                    2037.1   \n",
       "391                     8439.3           924.0                    4450.9   \n",
       "392                     7764.7          1230.0                    3528.1   \n",
       "393                     2951.8            70.0                    1812.5   \n",
       "394                     5377.0           256.0                    3845.0   \n",
       "\n",
       "    Year ending       Police Region  Family Incidents  \\\n",
       "0         March  1 North West Metro            1185.0   \n",
       "1         March  1 North West Metro            2776.0   \n",
       "2         March  1 North West Metro            1610.0   \n",
       "3         March  1 North West Metro            1031.0   \n",
       "4         March  1 North West Metro            3850.0   \n",
       "..          ...                 ...               ...   \n",
       "390       March           4 Western             177.0   \n",
       "391       March           4 Western             609.0   \n",
       "392       March           4 Western             627.0   \n",
       "393       March           4 Western              41.0   \n",
       "394       March           4 Western              92.0   \n",
       "\n",
       "     per_100,000_vic_reports  total crime number  \n",
       "0                      923.5             18993.0  \n",
       "1                     1396.1             44063.0  \n",
       "2                      998.3             32591.0  \n",
       "3                     1077.2             16198.0  \n",
       "4                     1553.0             46887.0  \n",
       "..                       ...                 ...  \n",
       "390                    548.8              3280.0  \n",
       "391                   2933.5              6829.0  \n",
       "392                   1798.5              9716.0  \n",
       "393                   1061.6               446.0  \n",
       "394                   1381.8              1383.0  \n",
       "\n",
       "[395 rows x 16 columns]"
      ]
     },
     "execution_count": 100,
     "metadata": {},
     "output_type": "execute_result"
    }
   ],
   "source": [
    "# view df\n",
    "crime_data"
   ]
  },
  {
   "cell_type": "code",
   "execution_count": 106,
   "id": "64f3b3b4-d644-41fb-a6d0-a08563606645",
   "metadata": {},
   "outputs": [],
   "source": [
    "# generate pivot for totals in each LGA per year\n",
    "pivot = crime_data.pivot(index = 'Year', columns = 'LGA code', values = 'total crime number')"
   ]
  },
  {
   "cell_type": "code",
   "execution_count": 234,
   "id": "5439ecae-11ef-471e-a7c0-aaeca533f03a",
   "metadata": {},
   "outputs": [
    {
     "data": {
      "text/plain": [
       "[' Alpine',\n",
       " ' Ararat',\n",
       " ' Ballarat',\n",
       " ' Banyule',\n",
       " ' Bass Coast',\n",
       " ' Baw Baw',\n",
       " ' Bayside',\n",
       " ' Benalla',\n",
       " ' Boroondara',\n",
       " ' Brimbank',\n",
       " ' Buloke',\n",
       " ' Campaspe',\n",
       " ' Cardinia',\n",
       " ' Casey',\n",
       " ' Central Goldfields',\n",
       " ' Colac-Otway',\n",
       " ' Corangamite',\n",
       " ' Darebin',\n",
       " ' East Gippsland',\n",
       " ' Frankston',\n",
       " ' Gannawarra',\n",
       " ' Glen Eira',\n",
       " ' Glenelg',\n",
       " ' Golden Plains',\n",
       " ' Greater Bendigo',\n",
       " ' Greater Dandenong',\n",
       " ' Greater Geelong',\n",
       " ' Greater Shepparton',\n",
       " ' Hepburn',\n",
       " ' Hindmarsh',\n",
       " ' Hobsons Bay',\n",
       " ' Horsham',\n",
       " ' Hume',\n",
       " ' Indigo',\n",
       " ' Kingston',\n",
       " ' Knox',\n",
       " ' Latrobe',\n",
       " ' Loddon',\n",
       " ' Macedon Ranges',\n",
       " ' Manningham',\n",
       " ' Mansfield',\n",
       " ' Maribyrnong',\n",
       " ' Maroondah',\n",
       " ' Melbourne',\n",
       " ' Melton',\n",
       " ' Mildura',\n",
       " ' Mitchell',\n",
       " ' Moira',\n",
       " ' Monash',\n",
       " ' Moonee Valley',\n",
       " ' Moorabool',\n",
       " ' Moreland',\n",
       " ' Mornington Peninsula',\n",
       " ' Mount Alexander',\n",
       " ' Moyne',\n",
       " ' Murrindindi',\n",
       " ' Nillumbik',\n",
       " ' Northern Grampians',\n",
       " ' Port Phillip',\n",
       " ' Pyrenees',\n",
       " ' Queenscliffe',\n",
       " ' South Gippsland',\n",
       " ' Southern Grampians',\n",
       " ' Stonnington',\n",
       " ' Strathbogie',\n",
       " ' Surf Coast',\n",
       " ' Swan Hill',\n",
       " ' Towong',\n",
       " ' Wangaratta',\n",
       " ' Warrnambool',\n",
       " ' Wellington',\n",
       " ' West Wimmera',\n",
       " ' Whitehorse',\n",
       " ' Whittlesea',\n",
       " ' Wodonga',\n",
       " ' Wyndham',\n",
       " ' Yarra',\n",
       " ' Yarra Ranges',\n",
       " ' Yarriambiack']"
      ]
     },
     "execution_count": 234,
     "metadata": {},
     "output_type": "execute_result"
    }
   ],
   "source": [
    "list(pivot.columns)"
   ]
  },
  {
   "cell_type": "code",
   "execution_count": 108,
   "id": "2a341b94-1764-4a5f-95cd-06ed6a0ea9a8",
   "metadata": {},
   "outputs": [
    {
     "data": {
      "text/plain": [
       "<AxesSubplot:title={'center':'Total crime number vs Year for LGAs in Victoria'}, xlabel='Year', ylabel='Crime number'>"
      ]
     },
     "execution_count": 108,
     "metadata": {},
     "output_type": "execute_result"
    },
    {
     "data": {
      "image/png": "[encoded data removed]",
      "text/plain": [
       "<Figure size 432x288 with 1 Axes>"
      ]
     },
     "metadata": {
      "needs_background": "light"
     },
     "output_type": "display_data"
    }
   ],
   "source": [
    "# look at how crime number  has changed over the years; it seems like it's pretty consistent across the years\n",
    "pivot.plot(legend = False, title = 'Total crime number vs Year for LGAs in Victoria', xlabel = 'Year', ylabel = 'Crime number')"
   ]
  },
  {
   "cell_type": "code",
   "execution_count": 109,
   "id": "9d56fd03-81a0-413e-8fcb-d20182455614",
   "metadata": {},
   "outputs": [],
   "source": [
    "# how has total crime numbers changed over the years?\n",
    "total = pd.DataFrame(crime_data.groupby('Year')['total crime number'].sum())"
   ]
  },
  {
   "cell_type": "code",
   "execution_count": 110,
   "id": "29b292a5-dceb-4573-a5f4-0597adaf0bd4",
   "metadata": {},
   "outputs": [
    {
     "data": {
      "text/plain": [
       "<AxesSubplot:xlabel='Year'>"
      ]
     },
     "execution_count": 110,
     "metadata": {},
     "output_type": "execute_result"
    },
    {
     "data": {
      "image/png": "[encoded data removed]",
      "text/plain": [
       "<Figure size 432x288 with 1 Axes>"
      ]
     },
     "metadata": {
      "needs_background": "light"
     },
     "output_type": "display_data"
    }
   ],
   "source": [
    "total.plot() # it sees that total criime number is decreasing in general"
   ]
  },
  {
   "cell_type": "code",
   "execution_count": 264,
   "id": "5fc8f68d-bfa8-444e-b50a-e092847ea060",
   "metadata": {},
   "outputs": [],
   "source": [
    "# read in LGA data for population\n",
    "LGA_pop = pd.read_csv(main_directory + 'data/raw/population/LGA_POP.csv')\n"
   ]
  },
  {
   "cell_type": "code",
   "execution_count": null,
   "id": "3bde2710-ab88-46cf-92a0-2d86900f86a4",
   "metadata": {},
   "outputs": [],
   "source": []
  },
  {
   "cell_type": "code",
   "execution_count": 265,
   "id": "c55c743c-752e-4f25-8f2c-8618ac136cb3",
   "metadata": {},
   "outputs": [],
   "source": [
    "# make a new pivot of crime data to be merged with LGAs\n",
    "pivot_transpose = crime_data.pivot(index = 'LGA code', columns = 'Year', values = 'total crime number')"
   ]
  },
  {
   "cell_type": "code",
   "execution_count": 266,
   "id": "001ab8bc-644d-473f-a9bc-c1ce854a3617",
   "metadata": {},
   "outputs": [],
   "source": [
    "# dont have 2022 data for pop, so drop that\n",
    "pivot_transpose.drop(columns = [2022.0], inplace = True)"
   ]
  },
  {
   "cell_type": "code",
   "execution_count": 267,
   "id": "39e11cd3-e8f5-4cb6-b018-20fe4df7ed53",
   "metadata": {},
   "outputs": [],
   "source": [
    "# make the LGA naming consistent and drop index\n",
    "pivot_transpose.reset_index(inplace = True)"
   ]
  },
  {
   "cell_type": "code",
   "execution_count": null,
   "id": "377fb8ce-9f8a-40cc-adba-a8e1a4316d05",
   "metadata": {},
   "outputs": [],
   "source": []
  },
  {
   "cell_type": "code",
   "execution_count": 268,
   "id": "220efdc0-addf-42e0-9c5a-6c20d3e67a0e",
   "metadata": {},
   "outputs": [],
   "source": [
    "# only take relevant years\n",
    "LGA_pop_recent_years = LGA_pop.loc[:,['Local Government Area','2018','2019','2020','2021']].rename(columns = {'Local Government Area':'LGA code'})"
   ]
  },
  {
   "cell_type": "code",
   "execution_count": 269,
   "id": "f2fc2139-acc7-43c8-bea4-570c3edee3b8",
   "metadata": {},
   "outputs": [
    {
     "name": "stderr",
     "output_type": "stream",
     "text": [
      "/var/folders/jv/q8z94ls52bq_4hrt0x88rlb40000gn/T/ipykernel_36103/2624233201.py:2: FutureWarning: The default value of regex will change from True to False in a future version.\n",
      "  LGA_pop_recent_years['LGA code']=LGA_pop_recent_years['LGA code'].str.replace('(Vic.)','')\n"
     ]
    }
   ],
   "source": [
    "# convert LGA names to consistent format\n",
    "LGA_pop_recent_years['LGA code']=LGA_pop_recent_years['LGA code'].str.replace('(Vic.)','')\n",
    "LGA_pop_recent_years['LGA code']=LGA_pop_recent_years['LGA code'].str.strip('(-)')\n",
    "LGA_pop_recent_years['LGA code']=LGA_pop_recent_years['LGA code'].str.strip()"
   ]
  },
  {
   "cell_type": "code",
   "execution_count": 270,
   "id": "af46aa33-1579-4d59-9466-1d80e387b633",
   "metadata": {},
   "outputs": [],
   "source": [
    "#list(LGA_pop_recent_years['LGA code'])"
   ]
  },
  {
   "cell_type": "code",
   "execution_count": 271,
   "id": "9f472e51-d83d-4e60-8e30-8b1a07b9148b",
   "metadata": {},
   "outputs": [],
   "source": [
    "# strip name white space and hyphens\n",
    "pivot_transpose['LGA code'] = pivot_transpose['LGA code'].str.strip()\n",
    "pivot_transpose['LGA code'] = pivot_transpose['LGA code'].str.replace('-',' ')"
   ]
  },
  {
   "cell_type": "code",
   "execution_count": 272,
   "id": "ac3cbb2a-4d02-451c-a762-dc43dda4f29f",
   "metadata": {},
   "outputs": [],
   "source": [
    "# merge population data with crime data\n",
    "LGA_pop_recent_years.dropna(inplace = True)\n",
    "merged_pop_crime = LGA_pop_recent_years.merge(pivot_transpose, how = 'right',on = 'LGA code')"
   ]
  },
  {
   "cell_type": "code",
   "execution_count": 273,
   "id": "c4ddf018-9726-47c2-80a6-60ce79473e41",
   "metadata": {},
   "outputs": [
    {
     "data": {
      "text/html": [
       "<div>\n",
       "<style scoped>\n",
       "    .dataframe tbody tr th:only-of-type {\n",
       "        vertical-align: middle;\n",
       "    }\n",
       "\n",
       "    .dataframe tbody tr th {\n",
       "        vertical-align: top;\n",
       "    }\n",
       "\n",
       "    .dataframe thead th {\n",
       "        text-align: right;\n",
       "    }\n",
       "</style>\n",
       "<table border=\"1\" class=\"dataframe\">\n",
       "  <thead>\n",
       "    <tr style=\"text-align: right;\">\n",
       "      <th></th>\n",
       "      <th>LGA code</th>\n",
       "      <th>2018</th>\n",
       "      <th>2019</th>\n",
       "      <th>2020</th>\n",
       "      <th>2021</th>\n",
       "      <th>2018.0</th>\n",
       "      <th>2019.0</th>\n",
       "      <th>2020.0</th>\n",
       "      <th>2021.0</th>\n",
       "    </tr>\n",
       "  </thead>\n",
       "  <tbody>\n",
       "  </tbody>\n",
       "</table>\n",
       "</div>"
      ],
      "text/plain": [
       "Empty DataFrame\n",
       "Columns: [LGA code, 2018, 2019, 2020, 2021, 2018.0, 2019.0, 2020.0, 2021.0]\n",
       "Index: []"
      ]
     },
     "execution_count": 273,
     "metadata": {},
     "output_type": "execute_result"
    }
   ],
   "source": [
    "# check if there is any unmatched data\n",
    "merged_pop_crime[merged_pop_crime['2018'].isnull()]"
   ]
  },
  {
   "cell_type": "code",
   "execution_count": 282,
   "id": "3712c555-cfa4-47ce-8cf1-40ec24a87187",
   "metadata": {},
   "outputs": [],
   "source": [
    "merged_pop_crime=merged_pop_crime.rename(columns = {'2018': '2018 population','2019': '2019 population','2020': '2020 population',\n",
    "                                   '2021': '2021 population', 2018:'2018 crime', 2019:'2019 crime', 2020:'2020 crime', 2021:'2021 crime'})"
   ]
  },
  {
   "cell_type": "code",
   "execution_count": 289,
   "id": "47270fc8-64cc-4a0c-98ff-7fdd1148389d",
   "metadata": {},
   "outputs": [],
   "source": [
    "# calculate rates (crime)\n",
    "years = ['2018', '2019','2020','2021']\n",
    "\n",
    "# iterate through the years and find the ratios\n",
    "for year in years:\n",
    "    merged_pop_crime[year+ ' ratio'] =  merged_pop_crime[year+' crime']/merged_pop_crime[year + ' population']\n"
   ]
  },
  {
   "cell_type": "code",
   "execution_count": 311,
   "id": "19422d01-e909-4e40-a42b-af971c83493d",
   "metadata": {},
   "outputs": [],
   "source": [
    "# write a new dataframe for plotting\n",
    "merged_pop_crime_plot = pd.DataFrame()\n",
    "crime_ratio_list = []\n",
    "year_list= []\n",
    "lga = []\n",
    "for i in range(len(merged_pop_crime)): \n",
    "    for year in years:\n",
    "        year_list.append(year)\n",
    "        crime_ratio_list.append(merged_pop_crime.loc[[i],[year + ' ratio']].values[0][0])\n",
    "        lga.append(merged_pop_crime.loc[[i],['LGA code']].values[0][0])\n",
    "merged_pop_crime_plot['Year'] = year_list\n",
    "merged_pop_crime_plot['LGA code']=lga\n",
    "merged_pop_crime_plot['crime_ratio_list']=crime_ratio_list"
   ]
  },
  {
   "cell_type": "code",
   "execution_count": 314,
   "id": "4ffcda2b-ff59-43a2-922f-6998045801db",
   "metadata": {},
   "outputs": [],
   "source": [
    "# create pivot for plotting\n",
    "plot_pivot_merge = merged_pop_crime_plot.pivot(index = 'Year', columns = 'LGA code', values  = 'crime_ratio_list')"
   ]
  },
  {
   "cell_type": "code",
   "execution_count": 318,
   "id": "93310d64-c064-4f2f-a004-a30597b314f2",
   "metadata": {},
   "outputs": [
    {
     "data": {
      "text/plain": [
       "<AxesSubplot:title={'center':'Total crime ratio vs Year for LGAs in Victoria'}, xlabel='Year', ylabel='Crime ratio'>"
      ]
     },
     "execution_count": 318,
     "metadata": {},
     "output_type": "execute_result"
    },
    {
     "data": {
      "image/png": "[encoded data removed]",
      "text/plain": [
       "<Figure size 432x288 with 1 Axes>"
      ]
     },
     "metadata": {
      "needs_background": "light"
     },
     "output_type": "display_data"
    }
   ],
   "source": [
    "# examine how crime ratios have changed over the years, and plot this\n",
    "plot_pivot_merge.plot(legend = False, title = 'Total crime ratio vs Year for LGAs in Victoria', xlabel = 'Year', ylabel = 'Crime ratio')"
   ]
  },
  {
   "cell_type": "code",
   "execution_count": 323,
   "id": "4cea5dde-54e7-4f15-a34e-065991952785",
   "metadata": {},
   "outputs": [],
   "source": [
    "# generate transposed pivot\n",
    "plot_pivot_merge_T = merged_pop_crime_plot.pivot(index = 'LGA code', columns = 'Year', values  = 'crime_ratio_list')"
   ]
  },
  {
   "cell_type": "code",
   "execution_count": 325,
   "id": "0813c2b3-9707-439a-9d7d-01870bdc00a9",
   "metadata": {},
   "outputs": [],
   "source": [
    "# get the average ratio change per year\n",
    "plot_pivot_merge_T['Average_ratio_change']= (plot_pivot_merge_T['2020'] - plot_pivot_merge_T['2019'] +\n",
    "                                             plot_pivot_merge_T['2019'] - plot_pivot_merge_T['2018'] +\n",
    "                                             plot_pivot_merge_T['2021']-plot_pivot_merge_T['2020'])/3"
   ]
  },
  {
   "cell_type": "code",
   "execution_count": null,
   "id": "cb71d9f1-68fb-4b49-85be-63aa91a684bf",
   "metadata": {},
   "outputs": [],
   "source": []
  },
  {
   "cell_type": "code",
   "execution_count": 327,
   "id": "b5d30976-56ef-4b54-bb3c-a9c8370d4ba5",
   "metadata": {},
   "outputs": [],
   "source": [
    "plot_pivot_merge_T.reset_index(inplace = True) # reset index"
   ]
  },
  {
   "cell_type": "code",
   "execution_count": null,
   "id": "24910710-5320-42e8-9b48-cb055d3fc6d2",
   "metadata": {},
   "outputs": [],
   "source": []
  },
  {
   "cell_type": "code",
   "execution_count": 334,
   "id": "a2972945-d2d4-43be-8c99-28b1a8a418b9",
   "metadata": {},
   "outputs": [],
   "source": [
    "# generate synthetic ratios for 2022 - 2025 as for predictions\n",
    "# create new df\n",
    "predicted_crime_rates = pd.DataFrame()\n",
    "predicted_crime_rates['LGA code'] = plot_pivot_merge_T['LGA code']\n",
    "years_future = ['2022','2023','2024','2025']\n",
    "for year in years_future:\n",
    "    year_list_rates = []\n",
    "    for i in range(len(plot_pivot_merge_T)):\n",
    "        year_list_rates.append(plot_pivot_merge_T.loc[[i],[str(int(year) - 1)]].values[0][0] +plot_pivot_merge_T.loc[[i],['Average_ratio_change']].values[0][0])\n",
    "    predicted_crime_rates[year] = year_list_rates \n",
    "    plot_pivot_merge_T[year] = year_list_rates \n"
   ]
  },
  {
   "cell_type": "code",
   "execution_count": 335,
   "id": "3758d661-e85f-45c8-a797-342cb62409a4",
   "metadata": {},
   "outputs": [
    {
     "data": {
      "text/html": [
       "<div>\n",
       "<style scoped>\n",
       "    .dataframe tbody tr th:only-of-type {\n",
       "        vertical-align: middle;\n",
       "    }\n",
       "\n",
       "    .dataframe tbody tr th {\n",
       "        vertical-align: top;\n",
       "    }\n",
       "\n",
       "    .dataframe thead th {\n",
       "        text-align: right;\n",
       "    }\n",
       "</style>\n",
       "<table border=\"1\" class=\"dataframe\">\n",
       "  <thead>\n",
       "    <tr style=\"text-align: right;\">\n",
       "      <th></th>\n",
       "      <th>LGA code</th>\n",
       "      <th>2022</th>\n",
       "      <th>2023</th>\n",
       "      <th>2024</th>\n",
       "      <th>2025</th>\n",
       "    </tr>\n",
       "  </thead>\n",
       "  <tbody>\n",
       "    <tr>\n",
       "      <th>0</th>\n",
       "      <td>Alpine</td>\n",
       "      <td>0.122317</td>\n",
       "      <td>0.128261</td>\n",
       "      <td>0.134206</td>\n",
       "      <td>0.140150</td>\n",
       "    </tr>\n",
       "    <tr>\n",
       "      <th>1</th>\n",
       "      <td>Ararat</td>\n",
       "      <td>0.379012</td>\n",
       "      <td>0.403993</td>\n",
       "      <td>0.428974</td>\n",
       "      <td>0.453956</td>\n",
       "    </tr>\n",
       "    <tr>\n",
       "      <th>2</th>\n",
       "      <td>Ballarat</td>\n",
       "      <td>0.217388</td>\n",
       "      <td>0.200308</td>\n",
       "      <td>0.183228</td>\n",
       "      <td>0.166147</td>\n",
       "    </tr>\n",
       "    <tr>\n",
       "      <th>3</th>\n",
       "      <td>Banyule</td>\n",
       "      <td>0.174872</td>\n",
       "      <td>0.169836</td>\n",
       "      <td>0.164800</td>\n",
       "      <td>0.159764</td>\n",
       "    </tr>\n",
       "    <tr>\n",
       "      <th>4</th>\n",
       "      <td>Bass Coast</td>\n",
       "      <td>0.215506</td>\n",
       "      <td>0.221617</td>\n",
       "      <td>0.227729</td>\n",
       "      <td>0.233840</td>\n",
       "    </tr>\n",
       "    <tr>\n",
       "      <th>...</th>\n",
       "      <td>...</td>\n",
       "      <td>...</td>\n",
       "      <td>...</td>\n",
       "      <td>...</td>\n",
       "      <td>...</td>\n",
       "    </tr>\n",
       "    <tr>\n",
       "      <th>74</th>\n",
       "      <td>Wodonga</td>\n",
       "      <td>0.209260</td>\n",
       "      <td>0.207303</td>\n",
       "      <td>0.205345</td>\n",
       "      <td>0.203388</td>\n",
       "    </tr>\n",
       "    <tr>\n",
       "      <th>75</th>\n",
       "      <td>Wyndham</td>\n",
       "      <td>0.165013</td>\n",
       "      <td>0.169083</td>\n",
       "      <td>0.173153</td>\n",
       "      <td>0.177224</td>\n",
       "    </tr>\n",
       "    <tr>\n",
       "      <th>76</th>\n",
       "      <td>Yarra</td>\n",
       "      <td>0.408340</td>\n",
       "      <td>0.419578</td>\n",
       "      <td>0.430815</td>\n",
       "      <td>0.442053</td>\n",
       "    </tr>\n",
       "    <tr>\n",
       "      <th>77</th>\n",
       "      <td>Yarra Ranges</td>\n",
       "      <td>0.149918</td>\n",
       "      <td>0.154905</td>\n",
       "      <td>0.159892</td>\n",
       "      <td>0.164878</td>\n",
       "    </tr>\n",
       "    <tr>\n",
       "      <th>78</th>\n",
       "      <td>Yarriambiack</td>\n",
       "      <td>0.189761</td>\n",
       "      <td>0.185543</td>\n",
       "      <td>0.181325</td>\n",
       "      <td>0.177107</td>\n",
       "    </tr>\n",
       "  </tbody>\n",
       "</table>\n",
       "<p>79 rows × 5 columns</p>\n",
       "</div>"
      ],
      "text/plain": [
       "        LGA code      2022      2023      2024      2025\n",
       "0         Alpine  0.122317  0.128261  0.134206  0.140150\n",
       "1         Ararat  0.379012  0.403993  0.428974  0.453956\n",
       "2       Ballarat  0.217388  0.200308  0.183228  0.166147\n",
       "3        Banyule  0.174872  0.169836  0.164800  0.159764\n",
       "4     Bass Coast  0.215506  0.221617  0.227729  0.233840\n",
       "..           ...       ...       ...       ...       ...\n",
       "74       Wodonga  0.209260  0.207303  0.205345  0.203388\n",
       "75       Wyndham  0.165013  0.169083  0.173153  0.177224\n",
       "76         Yarra  0.408340  0.419578  0.430815  0.442053\n",
       "77  Yarra Ranges  0.149918  0.154905  0.159892  0.164878\n",
       "78  Yarriambiack  0.189761  0.185543  0.181325  0.177107\n",
       "\n",
       "[79 rows x 5 columns]"
      ]
     },
     "execution_count": 335,
     "metadata": {},
     "output_type": "execute_result"
    }
   ],
   "source": [
    "predicted_crime_rates"
   ]
  },
  {
   "cell_type": "code",
   "execution_count": null,
   "id": "8ed830d3-efa5-44d4-bbb1-aab44cdadacd",
   "metadata": {},
   "outputs": [],
   "source": []
  }
 ],
 "metadata": {
  "kernelspec": {
   "display_name": "Python 3 (ipykernel)",
   "language": "python",
   "name": "python3"
  },
  "language_info": {
   "codemirror_mode": {
    "name": "ipython",
    "version": 3
   },
   "file_extension": ".py",
   "mimetype": "text/x-python",
   "name": "python",
   "nbconvert_exporter": "python",
   "pygments_lexer": "ipython3",
   "version": "3.9.6"
  }
 },
 "nbformat": 4,
 "nbformat_minor": 5
}
