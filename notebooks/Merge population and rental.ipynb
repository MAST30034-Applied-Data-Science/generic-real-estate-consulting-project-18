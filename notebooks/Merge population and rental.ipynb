{
 "cells": [
  {
   "cell_type": "code",
   "execution_count": null,
   "id": "9c66c833",
   "metadata": {},
   "outputs": [],
   "source": [
    "# need to install shapely\n",
    "\n",
    "import pandas as pd\n",
    "import geopandas as gpd\n",
    "import numpy as np\n",
    "import os\n",
    "import json\n",
    "from shapely.geometry import Point\n"
   ]
  },
  {
   "cell_type": "code",
   "execution_count": null,
   "id": "ba3879fa",
   "metadata": {},
   "outputs": [],
   "source": [
    "os.chdir('/mnt/c/Users/User/notebook/jupyterenv/generic-real-estate-consulting-project-18/')\n"
   ]
  },
  {
   "cell_type": "code",
   "execution_count": null,
   "id": "4d39ada0",
   "metadata": {},
   "outputs": [],
   "source": [
    "sf_SA2 = pd.read_csv(\"data/curated/shapefiles/SA2_shape_clean.csv\")\n",
    "rental_data = pd.read_csv(\"data/curated/rental/rental_properties_cleaned.csv\")"
   ]
  },
  {
   "cell_type": "code",
   "execution_count": null,
   "id": "cfc52567",
   "metadata": {},
   "outputs": [],
   "source": [
    "sf_SA2['geometry'] = gpd.GeoSeries.from_wkt(sf_SA2['geometry'])\n",
    "\n",
    "gdf_SA2 = gpd.GeoDataFrame(sf_SA2, geometry= 'geometry')"
   ]
  },
  {
   "cell_type": "code",
   "execution_count": null,
   "id": "32202f32",
   "metadata": {},
   "outputs": [],
   "source": [
    "gdf_SA2"
   ]
  },
  {
   "cell_type": "code",
   "execution_count": null,
   "id": "f2c9a905",
   "metadata": {},
   "outputs": [],
   "source": [
    "rental_data"
   ]
  },
  {
   "cell_type": "code",
   "execution_count": null,
   "id": "26504ce3",
   "metadata": {},
   "outputs": [],
   "source": [
    "rental_data['property_type'].unique()"
   ]
  },
  {
   "cell_type": "code",
   "execution_count": null,
   "id": "bfe66f7a",
   "metadata": {},
   "outputs": [],
   "source": [
    "rental_data_house_apt = rental_data[rental_data['property_type'] != 'storage unit']\n",
    "rental_data_house_apt = rental_data_house_apt[rental_data_house_apt['property_type'] != 'Carspace']"
   ]
  },
  {
   "cell_type": "code",
   "execution_count": null,
   "id": "c721d6b5",
   "metadata": {},
   "outputs": [],
   "source": [
    "property_price = rental_data_house_apt[['name', 'cost_text', 'property_type', 'coordinates']]\n",
    "\n",
    "property_price = property_price.reset_index()\n",
    "\n",
    "\n",
    "property_price.drop(columns=property_price.columns[0], axis=1, inplace=True)\n"
   ]
  },
  {
   "cell_type": "code",
   "execution_count": null,
   "id": "135a5128",
   "metadata": {},
   "outputs": [],
   "source": [
    "new_coordinates = []\n",
    "for i in property_price['coordinates']:\n",
    "    res = i.strip('][').split(', ')\n",
    "    new_coordinates.append(res)\n",
    "\n",
    "    \n",
    "result = []\n",
    " \n",
    "for sublist in new_coordinates:\n",
    "    float_sublist = []\n",
    "    for x in sublist:\n",
    "        float_sublist.append(float(x))\n",
    "    result.append(float_sublist)\n",
    "\n",
    "print(result)"
   ]
  },
  {
   "cell_type": "code",
   "execution_count": null,
   "id": "4a77e347",
   "metadata": {},
   "outputs": [],
   "source": [
    "new_coordinates = pd.DataFrame(result, columns = ['Longitude', 'Latitude'])\n",
    "\n",
    "\n",
    "property_price['Longitude'] = new_coordinates['Longitude']\n",
    "property_price['Latitude'] = new_coordinates['Latitude']\n",
    "\n",
    "property_price.drop(columns=property_price.columns[0], axis=1, inplace=True)"
   ]
  },
  {
   "cell_type": "code",
   "execution_count": null,
   "id": "29697738",
   "metadata": {},
   "outputs": [],
   "source": [
    "property_price['New_Coordinates'] = list(zip(property_price.Latitude, property_price.Longitude))\n",
    "\n",
    "property_price.drop(columns=property_price.columns[2], axis=1, inplace=True)"
   ]
  },
  {
   "cell_type": "code",
   "execution_count": null,
   "id": "cc8fbd87",
   "metadata": {},
   "outputs": [],
   "source": [
    "property_price['New_Coordinates'] = property_price['New_Coordinates'].apply(Point)\n",
    "\n",
    "property_price"
   ]
  },
  {
   "cell_type": "code",
   "execution_count": null,
   "id": "579a386d",
   "metadata": {},
   "outputs": [],
   "source": [
    "gdf_prop_price = gpd.GeoDataFrame(property_price, geometry='New_Coordinates')\n",
    "\n",
    "gdf_prop_price"
   ]
  },
  {
   "cell_type": "code",
   "execution_count": null,
   "id": "32ddaa30",
   "metadata": {},
   "outputs": [],
   "source": [
    "gdf_prop_price.drop(['Longitude', 'Latitude'], axis = 1)\n"
   ]
  },
  {
   "cell_type": "code",
   "execution_count": null,
   "id": "0644ec5f",
   "metadata": {},
   "outputs": [],
   "source": [
    "gdf_SA2"
   ]
  },
  {
   "cell_type": "code",
   "execution_count": null,
   "id": "736c012c",
   "metadata": {},
   "outputs": [],
   "source": [
    "pointInPolys = gpd.tools.sjoin(gdf_prop_price, gdf_SA2, predicate=\"within\", how='left')"
   ]
  },
  {
   "cell_type": "code",
   "execution_count": null,
   "id": "e1489835",
   "metadata": {},
   "outputs": [],
   "source": [
    "pointInPolys"
   ]
  },
  {
   "cell_type": "code",
   "execution_count": null,
   "id": "5618f84c",
   "metadata": {},
   "outputs": [],
   "source": []
  }
 ],
 "metadata": {
  "kernelspec": {
   "display_name": "Python 3 (ipykernel)",
   "language": "python",
   "name": "python3"
  },
  "language_info": {
   "codemirror_mode": {
    "name": "ipython",
    "version": 3
   },
   "file_extension": ".py",
   "mimetype": "text/x-python",
   "name": "python",
   "nbconvert_exporter": "python",
   "pygments_lexer": "ipython3",
   "version": "3.8.10"
  }
 },
 "nbformat": 4,
 "nbformat_minor": 5
}
